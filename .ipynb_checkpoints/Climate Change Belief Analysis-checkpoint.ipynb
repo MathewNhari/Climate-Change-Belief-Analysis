{
 "cells": [
  {
   "cell_type": "code",
   "execution_count": 10,
   "metadata": {},
   "outputs": [],
   "source": [
    "import numpy as np\n",
    "import pandas as pd\n",
    "import matplotlib.pyplot as plt\n",
    "import seaborn as sns\n",
    "import string\n",
    "import re\n",
    "from imblearn.over_sampling import SMOTE\n",
    "%matplotlib inline"
   ]
  },
  {
   "cell_type": "code",
   "execution_count": 11,
   "metadata": {},
   "outputs": [],
   "source": [
    "import spacy\n",
    "from sklearn.feature_extraction.text import TfidfVectorizer\n",
    "from sklearn.model_selection import train_test_split\n",
    "\n",
    "from sklearn import metrics\n",
    "from sklearn.svm import SVC\n",
    "from sklearn.linear_model import LogisticRegression\n",
    "from sklearn.neighbors import KNeighborsClassifier\n",
    "from sklearn.preprocessing import StandardScaler\n",
    "from sklearn.ensemble import RandomForestClassifier, AdaBoostClassifier\n",
    "from sklearn.tree import DecisionTreeClassifier\n",
    "from sklearn.neural_network import MLPClassifier\n",
    "\n",
    "from sklearn.model_selection import GridSearchCV\n",
    "\n",
    "from sklearn.utils import resample"
   ]
  },
  {
   "cell_type": "code",
   "execution_count": 12,
   "metadata": {},
   "outputs": [],
   "source": [
    "nlp = spacy.load(\"en_core_web_sm\")"
   ]
  },
  {
   "cell_type": "code",
   "execution_count": 13,
   "metadata": {},
   "outputs": [
    {
     "data": {
      "text/html": [
       "<div>\n",
       "<style scoped>\n",
       "    .dataframe tbody tr th:only-of-type {\n",
       "        vertical-align: middle;\n",
       "    }\n",
       "\n",
       "    .dataframe tbody tr th {\n",
       "        vertical-align: top;\n",
       "    }\n",
       "\n",
       "    .dataframe thead th {\n",
       "        text-align: right;\n",
       "    }\n",
       "</style>\n",
       "<table border=\"1\" class=\"dataframe\">\n",
       "  <thead>\n",
       "    <tr style=\"text-align: right;\">\n",
       "      <th></th>\n",
       "      <th>tweetid</th>\n",
       "      <th>sentiment</th>\n",
       "    </tr>\n",
       "  </thead>\n",
       "  <tbody>\n",
       "    <tr>\n",
       "      <th>0</th>\n",
       "      <td>169760</td>\n",
       "      <td>1</td>\n",
       "    </tr>\n",
       "    <tr>\n",
       "      <th>1</th>\n",
       "      <td>35326</td>\n",
       "      <td>1</td>\n",
       "    </tr>\n",
       "    <tr>\n",
       "      <th>2</th>\n",
       "      <td>224985</td>\n",
       "      <td>1</td>\n",
       "    </tr>\n",
       "    <tr>\n",
       "      <th>3</th>\n",
       "      <td>476263</td>\n",
       "      <td>1</td>\n",
       "    </tr>\n",
       "    <tr>\n",
       "      <th>4</th>\n",
       "      <td>872928</td>\n",
       "      <td>1</td>\n",
       "    </tr>\n",
       "  </tbody>\n",
       "</table>\n",
       "</div>"
      ],
      "text/plain": [
       "   tweetid  sentiment\n",
       "0   169760          1\n",
       "1    35326          1\n",
       "2   224985          1\n",
       "3   476263          1\n",
       "4   872928          1"
      ]
     },
     "execution_count": 13,
     "metadata": {},
     "output_type": "execute_result"
    }
   ],
   "source": [
    "pd.read_csv('sample_submission.csv').head()"
   ]
  },
  {
   "cell_type": "code",
   "execution_count": 14,
   "metadata": {},
   "outputs": [
    {
     "data": {
      "text/html": [
       "<div>\n",
       "<style scoped>\n",
       "    .dataframe tbody tr th:only-of-type {\n",
       "        vertical-align: middle;\n",
       "    }\n",
       "\n",
       "    .dataframe tbody tr th {\n",
       "        vertical-align: top;\n",
       "    }\n",
       "\n",
       "    .dataframe thead th {\n",
       "        text-align: right;\n",
       "    }\n",
       "</style>\n",
       "<table border=\"1\" class=\"dataframe\">\n",
       "  <thead>\n",
       "    <tr style=\"text-align: right;\">\n",
       "      <th></th>\n",
       "      <th>sentiment</th>\n",
       "      <th>message</th>\n",
       "      <th>tweetid</th>\n",
       "    </tr>\n",
       "  </thead>\n",
       "  <tbody>\n",
       "    <tr>\n",
       "      <th>0</th>\n",
       "      <td>1</td>\n",
       "      <td>PolySciMajor EPA chief doesn't think carbon di...</td>\n",
       "      <td>625221</td>\n",
       "    </tr>\n",
       "    <tr>\n",
       "      <th>1</th>\n",
       "      <td>1</td>\n",
       "      <td>It's not like we lack evidence of anthropogeni...</td>\n",
       "      <td>126103</td>\n",
       "    </tr>\n",
       "    <tr>\n",
       "      <th>2</th>\n",
       "      <td>2</td>\n",
       "      <td>RT @RawStory: Researchers say we have three ye...</td>\n",
       "      <td>698562</td>\n",
       "    </tr>\n",
       "    <tr>\n",
       "      <th>3</th>\n",
       "      <td>1</td>\n",
       "      <td>#TodayinMaker# WIRED : 2016 was a pivotal year...</td>\n",
       "      <td>573736</td>\n",
       "    </tr>\n",
       "    <tr>\n",
       "      <th>4</th>\n",
       "      <td>1</td>\n",
       "      <td>RT @SoyNovioDeTodas: It's 2016, and a racist, ...</td>\n",
       "      <td>466954</td>\n",
       "    </tr>\n",
       "  </tbody>\n",
       "</table>\n",
       "</div>"
      ],
      "text/plain": [
       "   sentiment                                            message  tweetid\n",
       "0          1  PolySciMajor EPA chief doesn't think carbon di...   625221\n",
       "1          1  It's not like we lack evidence of anthropogeni...   126103\n",
       "2          2  RT @RawStory: Researchers say we have three ye...   698562\n",
       "3          1  #TodayinMaker# WIRED : 2016 was a pivotal year...   573736\n",
       "4          1  RT @SoyNovioDeTodas: It's 2016, and a racist, ...   466954"
      ]
     },
     "execution_count": 14,
     "metadata": {},
     "output_type": "execute_result"
    }
   ],
   "source": [
    "train_df = pd.read_csv('train.csv')\n",
    "test_df = pd.read_csv('test.csv')\n",
    "train_df.head()"
   ]
  },
  {
   "cell_type": "code",
   "execution_count": 15,
   "metadata": {},
   "outputs": [
    {
     "name": "stdout",
     "output_type": "stream",
     "text": [
      "<class 'pandas.core.frame.DataFrame'>\n",
      "RangeIndex: 15819 entries, 0 to 15818\n",
      "Data columns (total 3 columns):\n",
      " #   Column     Non-Null Count  Dtype \n",
      "---  ------     --------------  ----- \n",
      " 0   sentiment  15819 non-null  int64 \n",
      " 1   message    15819 non-null  object\n",
      " 2   tweetid    15819 non-null  int64 \n",
      "dtypes: int64(2), object(1)\n",
      "memory usage: 370.9+ KB\n"
     ]
    }
   ],
   "source": [
    "train_df.info()"
   ]
  },
  {
   "cell_type": "code",
   "execution_count": 16,
   "metadata": {},
   "outputs": [],
   "source": [
    "X = train_df['message']\n",
    "y = train_df['sentiment']"
   ]
  },
  {
   "cell_type": "code",
   "execution_count": 34,
   "metadata": {},
   "outputs": [
    {
     "data": {
      "text/plain": [
       " 1    8530\n",
       " 2    3640\n",
       " 0    2353\n",
       "-1    1296\n",
       "Name: sentiment, dtype: int64"
      ]
     },
     "execution_count": 34,
     "metadata": {},
     "output_type": "execute_result"
    }
   ],
   "source": [
    "anti = train_df[y==-1]\n",
    "neutral = train_df[y==0]\n",
    "pro = train_df[y==1]\n",
    "news = train_df[y==2]\n",
    "\n",
    "y.value_counts()\n"
   ]
  },
  {
   "cell_type": "code",
   "execution_count": 18,
   "metadata": {},
   "outputs": [
    {
     "data": {
      "image/png": "[encoded data removed]",
      "text/plain": [
       "<Figure size 432x288 with 1 Axes>"
      ]
     },
     "metadata": {
      "needs_background": "light"
     },
     "output_type": "display_data"
    }
   ],
   "source": [
    "labels = y.unique()\n",
    "heights = [len(anti),len(neutral),len(pro),len(news)]\n",
    "plt.bar(labels,heights,color='grey')\n",
    "plt.xticks(labels,['-1','0','1','2'])\n",
    "plt.ylabel(\"No of observations\")\n",
    "plt.show()"
   ]
  },
  {
   "cell_type": "markdown",
   "metadata": {},
   "source": [
    "Data Cleaning"
   ]
  },
  {
   "cell_type": "code",
   "execution_count": 19,
   "metadata": {},
   "outputs": [],
   "source": [
    "#Setting the resamples to half the size of the majority sample\n",
    "#sample_size = int(len(pro)/2)\n",
    "\n",
    "# Downsample majority\n",
    "#downsampled = resample(pro,replace=False,n_samples=sample_size,random_state=42)\n",
    "# Upsample minority\n",
    "#upsampled = resample(neutral,replace=True,n_samples=sample_size,random_state=42)\n",
    "#upsampled2 = resample(anti,replace=True,n_samples=sample_size,random_state=42)\n",
    "#upsampled3 = resample(news,replace=True,n_samples=sample_size,random_state=42)\n",
    "\n",
    "#train_df = pd.concat([downsampled,upsampled,upsampled2,upsampled3])\n",
    "#train_df['sentiment'].value_counts()"
   ]
  },
  {
   "cell_type": "code",
   "execution_count": 20,
   "metadata": {},
   "outputs": [],
   "source": [
    "#anti = train_df[train_df['sentiment']==-1]\n",
    "#neutral = train_df[train_df['sentiment']==0]\n",
    "#pro = train_df[train_df['sentiment']==1]\n",
    "#news = train_df[train_df['sentiment']==2]\n",
    "#labels = train_df['sentiment'].unique()\n",
    "#heights = [len(anti),len(neutral),len(pro),len(news)]\n",
    "#plt.bar(labels,heights,color='grey')\n",
    "#plt.xticks(labels,['-1','0','1','2'])\n",
    "#plt.ylabel(\"# of observations\")\n",
    "#plt.show()"
   ]
  },
  {
   "cell_type": "code",
   "execution_count": 21,
   "metadata": {},
   "outputs": [
    {
     "data": {
      "text/plain": [
       "'!\"#$%&\\'()*+,-./:;<=>?@[\\\\]^_`{|}~'"
      ]
     },
     "execution_count": 21,
     "metadata": {},
     "output_type": "execute_result"
    }
   ],
   "source": [
    "string.punctuation"
   ]
  },
  {
   "cell_type": "code",
   "execution_count": 22,
   "metadata": {},
   "outputs": [
    {
     "data": {
      "text/html": [
       "<div>\n",
       "<style scoped>\n",
       "    .dataframe tbody tr th:only-of-type {\n",
       "        vertical-align: middle;\n",
       "    }\n",
       "\n",
       "    .dataframe tbody tr th {\n",
       "        vertical-align: top;\n",
       "    }\n",
       "\n",
       "    .dataframe thead th {\n",
       "        text-align: right;\n",
       "    }\n",
       "</style>\n",
       "<table border=\"1\" class=\"dataframe\">\n",
       "  <thead>\n",
       "    <tr style=\"text-align: right;\">\n",
       "      <th></th>\n",
       "      <th>sentiment</th>\n",
       "      <th>message</th>\n",
       "      <th>tweetid</th>\n",
       "      <th>url</th>\n",
       "    </tr>\n",
       "  </thead>\n",
       "  <tbody>\n",
       "    <tr>\n",
       "      <th>0</th>\n",
       "      <td>1</td>\n",
       "      <td>PolySciMajor EPA chief doesn't think carbon di...</td>\n",
       "      <td>625221</td>\n",
       "      <td>https://t.co/yeLvcEFXkC</td>\n",
       "    </tr>\n",
       "    <tr>\n",
       "      <th>1</th>\n",
       "      <td>1</td>\n",
       "      <td>It's not like we lack evidence of anthropogeni...</td>\n",
       "      <td>126103</td>\n",
       "      <td></td>\n",
       "    </tr>\n",
       "    <tr>\n",
       "      <th>2</th>\n",
       "      <td>2</td>\n",
       "      <td>RT @RawStory: Researchers say we have three ye...</td>\n",
       "      <td>698562</td>\n",
       "      <td>https://t.co/WdT0KdUr2fhttps://t.co/Z0ANPT</td>\n",
       "    </tr>\n",
       "    <tr>\n",
       "      <th>3</th>\n",
       "      <td>1</td>\n",
       "      <td>#TodayinMaker# WIRED : 2016 was a pivotal year...</td>\n",
       "      <td>573736</td>\n",
       "      <td>https://t.co/44wOTxTLcD</td>\n",
       "    </tr>\n",
       "    <tr>\n",
       "      <th>4</th>\n",
       "      <td>1</td>\n",
       "      <td>RT @SoyNovioDeTodas: It's 2016, and a racist, ...</td>\n",
       "      <td>466954</td>\n",
       "      <td></td>\n",
       "    </tr>\n",
       "  </tbody>\n",
       "</table>\n",
       "</div>"
      ],
      "text/plain": [
       "   sentiment                                            message  tweetid  \\\n",
       "0          1  PolySciMajor EPA chief doesn't think carbon di...   625221   \n",
       "1          1  It's not like we lack evidence of anthropogeni...   126103   \n",
       "2          2  RT @RawStory: Researchers say we have three ye...   698562   \n",
       "3          1  #TodayinMaker# WIRED : 2016 was a pivotal year...   573736   \n",
       "4          1  RT @SoyNovioDeTodas: It's 2016, and a racist, ...   466954   \n",
       "\n",
       "                                          url  \n",
       "0                     https://t.co/yeLvcEFXkC  \n",
       "1                                              \n",
       "2  https://t.co/WdT0KdUr2fhttps://t.co/Z0ANPT  \n",
       "3                     https://t.co/44wOTxTLcD  \n",
       "4                                              "
      ]
     },
     "execution_count": 22,
     "metadata": {},
     "output_type": "execute_result"
    }
   ],
   "source": [
    "#If we get url maybe we can extract text data from the urls\n",
    "def get_url(sent):\n",
    "    pattern = r'http[s]?://(?:[A-Za-z]|[0-9]|[$-_@.&+]|[!*\\(\\),]|(?:%[0-9A-Fa-f][0-9A-Fa-f]))+'\n",
    "    return ''.join(re.findall(pattern,sent))\n",
    "train_df['url'] = train_df['message'].apply(get_url)\n",
    "test_df['url'] = test_df['message'].apply(get_url)\n",
    "train_df.head()"
   ]
  },
  {
   "cell_type": "code",
   "execution_count": 23,
   "metadata": {},
   "outputs": [],
   "source": [
    "def remove_url(df):\n",
    "    pattern_url = r'http[s]?://(?:[A-Za-z]|[0-9]|[$-_@.&+]|[!*\\(\\),]|(?:%[0-9A-Fa-f][0-9A-Fa-f]))+'\n",
    "    url = r'url-web'\n",
    "    df['message'] = df['message'].replace(to_replace = pattern_url, value = url, regex = True)\n",
    "    return df"
   ]
  },
  {
   "cell_type": "code",
   "execution_count": 24,
   "metadata": {},
   "outputs": [],
   "source": [
    "train_df = remove_url(train_df)\n",
    "test_df = remove_url(test_df)"
   ]
  },
  {
   "cell_type": "code",
   "execution_count": 25,
   "metadata": {},
   "outputs": [],
   "source": [
    "# add RT as a stopword\n",
    "for word in ['RT','https','http']:\n",
    "    nlp.Defaults.stop_words.add(word)\n",
    "    nlp.vocab[word].is_stop = True"
   ]
  },
  {
   "cell_type": "code",
   "execution_count": 26,
   "metadata": {},
   "outputs": [],
   "source": [
    "def clean_message(message):\n",
    "    return ' '.join(re.sub(\"(@[A-Za-z0-9]+)|([^0-9A-Za-z\\t])|(\\w+:\\/\\/\\S+)\",\" \",message).split())\n",
    "\n",
    "train_df['message'] = train_df['message'].apply(clean_message)\n",
    "test_df['message'] = test_df['message'].apply(clean_message)"
   ]
  },
  {
   "cell_type": "code",
   "execution_count": 27,
   "metadata": {},
   "outputs": [],
   "source": [
    "#Remove all punctuation in message column\n",
    "def remove_punctuation(message):\n",
    "    punct = string.punctuation +'0123456789'\n",
    "    return ''.join([l for l in message if l not in punct])\n",
    "train_df['message'] = train_df['message'].apply(remove_punctuation)\n",
    "test_df['message'] = test_df['message'].apply(remove_punctuation)"
   ]
  },
  {
   "cell_type": "code",
   "execution_count": 28,
   "metadata": {},
   "outputs": [],
   "source": [
    "def lemma_text(text):\n",
    "    return ' '.join([token.lemma_ for token in nlp(text)])\n",
    "\n",
    "train_df['message'] = train_df['message'].apply(lemma_text)\n",
    "test_df['message'] = test_df['message'].apply(lemma_text)"
   ]
  },
  {
   "cell_type": "markdown",
   "metadata": {},
   "source": [
    "#Data Cleaned"
   ]
  },
  {
   "cell_type": "code",
   "execution_count": 29,
   "metadata": {},
   "outputs": [],
   "source": [
    "tfidf = TfidfVectorizer(strip_accents='ascii',stop_words='english',min_df=0.001)\n",
    "X_vectorized = tfidf.fit_transform(X)"
   ]
  },
  {
   "cell_type": "code",
   "execution_count": 30,
   "metadata": {},
   "outputs": [],
   "source": [
    "smote = SMOTE(random_state =42)\n",
    "X_vect_smote, y_smote = smote.fit_sample(X_vectorized,y)"
   ]
  },
  {
   "cell_type": "code",
   "execution_count": 33,
   "metadata": {},
   "outputs": [
    {
     "data": {
      "text/plain": [
       "34120"
      ]
     },
     "execution_count": 33,
     "metadata": {},
     "output_type": "execute_result"
    }
   ],
   "source": [
    "len(y_smote)"
   ]
  },
  {
   "cell_type": "code",
   "execution_count": 35,
   "metadata": {},
   "outputs": [
    {
     "data": {
      "image/png": "[encoded data removed]",
      "text/plain": [
       "<Figure size 432x288 with 1 Axes>"
      ]
     },
     "metadata": {
      "needs_background": "light"
     },
     "output_type": "display_data"
    }
   ],
   "source": [
    "anti = y_smote[y_smote==-1]\n",
    "neutral = y_smote[y_smote==0]\n",
    "pro = y_smote[y_smote==1]\n",
    "news = y_smote[y_smote==2]\n",
    "labels = y_smote.unique()\n",
    "heights = [len(anti),len(neutral),len(pro),len(news)]\n",
    "plt.bar(labels,heights,color='grey')\n",
    "plt.xticks(labels,['-1','0','1','2'])\n",
    "plt.ylabel(\"# of observations\")\n",
    "plt.show()"
   ]
  },
  {
   "cell_type": "code",
   "execution_count": 36,
   "metadata": {},
   "outputs": [
    {
     "name": "stdout",
     "output_type": "stream",
     "text": [
      "['abandon', 'abc', 'abortion', 'absolutely', 'abt', 'accelerate', 'accept', 'accord', 'account', 'acknowledge', 'act', 'action', 'activist', 'activity', 'actonclimate', 'actually', 'ad', 'adapt', 'adaptation', 'add', 'address', 'admin', 'administration', 'administrator', 'admit', 'advisory', 'advocate', 'affect', 'africa', 'ag', 'age', 'agency', 'agenda', 'ago', 'agree', 'agreement', 'agriculture', 'ahead', 'aim', 'air', 'al', 'alarm', 'alarmist', 'alaska', 'alia', 'alias', 'allow', 'america', 'american', 'americans', 'amid', 'amp', 'anemone', 'angry', 'animal', 'announce', 'answer', 'antarctica', 'anthropogenic', 'anti', 'anymore', 'apparently', 'appoint', 'approach', 'arctic', 'area', 'aren', 'argue', 'argument', 'article', 'asia', 'ask', 'ass', 'attack', 'attend', 'attention', 'auspol', 'australia', 'australian', 'author', 'avoid', 'awareness', 'away', 'bad', 'ban', 'bank', 'barrier', 'base', 'basically', 'battle', 'bbc', 'bc', 'bear', 'beat', 'bee', 'beforetheflood', 'begin', 'belief', 'believe', 'benefit', 'bernie', 'bet', 'betwe', 'big', 'billion', 'biodiversity', 'bird', 'bitch', 'black', 'blame', 'bleach', 'block', 'blog', 'bloomberg', 'blow', 'board', 'body', 'bold', 'book', 'boost', 'bottle', 'boy', 'brain', 'break', 'breaking', 'breitbart', 'brexit', 'bright', 'bring', 'brown', 'bs', 'budget', 'build', 'bullshit', 'bunch', 'burn', 'business', 'buy', 'ca', 'cabinet', 'california', 'caller', 'campaign', 'canada', 'cancel', 'candidate', 'cap', 'car', 'carbon', 'care', 'case', 'catastrophe', 'catastrophic', 'catch', 'cause', 'cdc', 'century', 'ceo', 'ch', 'challenge', 'chance', 'change', 'channel', 'charge', 'charles', 'check', 'chicago', 'chief', 'child', 'china', 'chinese', 'choice', 'choose', 'christmas', 'cite', 'citizen', 'city', 'civil', 'claim', 'class', 'clean', 'clear', 'climate', 'climatechange', 'climatemarch', 'clinton', 'close', 'club', 'cnn', 'coal', 'coast', 'coastal', 'cold', 'column', 'combat', 'come', 'comment', 'commit', 'commitment', 'committee', 'common', 'community', 'company', 'competiti', 'competitive', 'complain', 'completely', 'complex', 'comprehensive', 'concept', 'concern', 'concerned', 'conference', 'confirm', 'conflict', 'confront', 'congress', 'congressman', 'consensus', 'consequence', 'conservative', 'consider', 'conspiracy', 'continue', 'contradict', 'contribute', 'contribution', 'contributor', 'control', 'conversation', 'convince', 'cook', 'cool', 'cooperation', 'cop', 'cope', 'coral', 'corporate', 'cost', 'council', 'country', 'course', 'court', 'cover', 'cracks', 'crazy', 'create', 'crime', 'crisis', 'critical', 'criticize', 'crop', 'curb', 'current', 'cut', 'dad', 'daily', 'damage', 'damn', 'dana', 'danger', 'dangerous', 'dark', 'datum', 'david', 'day', 'dead', 'deadly', 'deal', 'dear', 'death', 'debate', 'decade', 'decide', 'decision', 'deep', 'defend', 'defense', 'deforestation', 'defy', 'degree', 'delay', 'delete', 'deluge', 'dem', 'demand', 'democrats', 'deni', 'denial', 'denier', 'deny', 'denying', 'department', 'dept', 'deserve', 'design', 'despite', 'destroy', 'develop', 'di', 'diabetes', 'dicaprio', 'didn', 'die', 'difference', 'dioxide', 'directly', 'director', 'disappear', 'disaster', 'discuss', 'discussion', 'disease', 'dispute', 'doc', 'document', 'documentary', 'doesn', 'dollar', 'don', 'donald', 'doom', 'double', 'doubt', 'dr', 'dramatically', 'drive', 'driver', 'drop', 'drought', 'dude', 'dumb', 'dup', 'dupe', 'early', 'earth', 'earthday', 'easy', 'eat', 'economic', 'economy', 'ecosystem', 'ed', 'editorial', 'education', 'effect', 'effective', 'effort', 'elect', 'election', 'eliminate', 'email', 'emission', 'employee', 'end', 'energy', 'enjoy', 'enter', 'entire', 'environment', 'environmental', 'environmentalist', 'epa', 'episode', 'equality', 'equity', 'era', 'especially', 'eu', 'europe', 'event', 'evidence', 'evolution', 'exactly', 'example', 'excellent', 'executive', 'exist', 'exit', 'expect', 'experience', 'expert', 'explain', 'explore', 'extinction', 'extreme', 'extremely', 'exxon', 'exxonmobil', 'eye', 'face', 'fact', 'factor', 'fail', 'failure', 'fake', 'fall', 'false', 'falsely', 'family', 'famine', 'far', 'farmer', 'fascist', 'fast', 'fear', 'february', 'fed', 'federal', 'feel', 'fight', 'film', 'finally', 'fish', 'fix', 'flat', 'flood', 'florida', 'fly', 'focus', 'follow', 'food', 'fool', 'force', 'forest', 'forget', 'forward', 'fossi', 'fossil', 'fox', 'france', 'francis', 'fraud', 'free', 'freeze', 'friend', 'frightening', 'fuck', 'fucking', 'fuel', 'fund', 'funding', 'funny', 'future', 'game', 'gas', 'gates', 'gay', 'gender', 'general', 'generation', 'geographic', 'giant', 'girl', 'glacier', 'glad', 'global', 'globalwarme', 'globalwarming', 'goal', 'god', 'good', 'google', 'gop', 'gore', 'gov', 'government', 'governor', 'govt', 'great', 'green', 'greenhouse', 'ground', 'group', 'grow', 'growth', 'gt', 'guardian', 'guess', 'gun', 'guy', 'habitat', 'hack', 'half', 'hand', 'happen', 'happy', 'hard', 'harm', 'harvey', 'hate', 'haven', 'head', 'health', 'healthcare', 'hear', 'heat', 'hell', 'hello', 'help', 'hey', 'high', 'highlight', 'hillary', 'hire', 'history', 'hit', 'hoax', 'hold', 'home', 'honestly', 'hope', 'hot', 'hour', 'house', 'hrc', 'ht', 'htt', 'http', 'https', 'huge', 'human', 'humanity', 'hurricane', 'hurt', 'husband', 'hypocrite', 'ice', 'iceberg', 'idea', 'idiot', 'ignorance', 'ignorant', 'ignore', 'image', 'imagine', 'immigration', 'impact', 'importance', 'important', 'improve', 'imvotingbecause', 'inaction', 'include', 'inconvenient', 'increase', 'independent', 'india', 'indian', 'indigenous', 'individual', 'industry', 'inequality', 'influence', 'info', 'information', 'initiative', 'innovation', 'inspiration', 'instal', 'instead', 'interested', 'interesting', 'interior', 'international', 'internet', 'interview', 'interviewer', 'invent', 'invest', 'investment', 'investor', 'involve', 'irony', 'isis', 'island', 'isn', 'issue', 'ivanka', 'ivotedbecause', 'james', 'jerry', 'jet', 'job', 'john', 'join', 'joke', 'journalist', 'judge', 'just', 'justice', 'kerry', 'key', 'kid', 'kill', 'kind', 'know', 'knowledge', 'lack', 'land', 'large', 'late', 'later', 'launch', 'law', 'lawsuit', 'lead', 'leader', 'leadership', 'learn', 'leave', 'lecture', 'left', 'leo', 'leonardo', 'let', 'letter', 'level', 'lgbt', 'liberal', 'lie', 'life', 'light', 'like', 'likely', 'limit', 'limited', 'line', 'link', 'list', 'listen', 'literally', 'little', 'live', 'lmao', 'local', 'lol', 'long', 'longer', 'look', 'lose', 'loss', 'lot', 'love', 'low', 'macron', 'mad', 'maga', 'mail', 'main', 'major', 'majority', 'make', 'malcolm', 'man', 'manipulate', 'manmade', 'manufacturing', 'map', 'march', 'mark', 'market', 'marriage', 'mass', 'massive', 'matter', 'maybe', 'mayor', 'mean', 'measure', 'meat', 'media', 'medium', 'meet', 'meeting', 'melania', 'melt', 'mental', 'mention', 'message', 'methane', 'michael', 'mid', 'middle', 'military', 'million', 'mind', 'minimum', 'minister', 'minute', 'mislead', 'miss', 'mitigate', 'mitigation', 'mobil', 'model', 'money', 'month', 'moon', 'morning', 'moron', 'movement', 'movie', 'mp', 'mr', 'myth', 'nasa', 'nation', 'national', 'natural', 'nature', 'nearly', 'need', 'network', 'new', 'news', 'nice', 'night', 'noaa', 'nominee', 'non', 'normal', 'north', 'note', 'november', 'nuclear', 'number', 'ny', 'nyc', 'nye', 'nyt', 'obama', 'ocean', 'offer', 'office', 'official', 'oh', 'oil', 'ok', 'okay', 'old', 'online', 'open', 'opinion', 'opportunity', 'oppose', 'order', 'org', 'outside', 'overwhelming', 'pacific', 'pact', 'page', 'pakistan', 'panel', 'paper', 'parent', 'paris', 'parisagreement', 'park', 'party', 'pass', 'past', 'pay', 'peace', 'penguin', 'pentagon', 'people', 'perry', 'person', 'petition', 'photo', 'phrase', 'physics', 'pick', 'piece', 'pipeline', 'place', 'plan', 'planet', 'plant', 'plastic', 'play', 'pledge', 'plus', 'pm', 'point', 'polar', 'policy', 'politic', 'political', 'politician', 'politics', 'poll', 'pollution', 'poor', 'pope', 'popular', 'population', 'pose', 'position', 'possible', 'post', 'potential', 'poverty', 'power', 'powerful', 'ppl', 'predict', 'prediction', 'prepare', 'preserve', 'presidency', 'president', 'presidential', 'press', 'pressure', 'pretend', 'pretty', 'prevent', 'price', 'primary', 'prince', 'priority', 'private', 'pro', 'probably', 'problem', 'profit', 'program', 'progress', 'project', 'promise', 'pron', 'proof', 'propose', 'protect', 'protection', 'protest', 'protester', 'prove', 'pruitt', 'public', 'publish', 'pull', 'push', 'putin', 'qanda', 'question', 'quick', 'race', 'racism', 'racist', 'radical', 'rain', 'raise', 'rapid', 'rare', 'rate', 'reach', 'react', 'read', 'ready', 'real', 'reality', 'realize', 'really', 'reason', 'recent', 'recognize', 'record', 'red', 'reduce', 'reef', 'reference', 'reform', 'refugee', 'refuse', 'refute', 'regardless', 'regulation', 'reject', 'relate', 'release', 'religion', 'religious', 'remain', 'remember', 'reminder', 'remove', 'renewable', 'report', 'republican', 'republicans', 'request', 'require', 'research', 'researcher', 'resilience', 'resist', 'resource', 'resources', 'respect', 'respond', 'response', 'responsible', 'rest', 'result', 'return', 'retweet', 'reuters', 'reveal', 'reverse', 'review', 'rex', 'rich', 'rick', 'right', 'rise', 'risk', 'river', 'role', 'roll', 'rt', 'rule', 'run', 'russia', 'russian', 'sad', 'safe', 'sanders', 'satellite', 'save', 'say', 'scale', 'scam', 'scary', 'sceptic', 'school', 'science', 'scientific', 'scientist', 'scientists', 'scott', 'sea', 'season', 'sec', 'second', 'secretary', 'security', 'seek', 'sell', 'senate', 'senator', 'send', 'sense', 'sequel', 'series', 'seriously', 'set', 'settle', 'sexist', 'share', 'shift', 'shit', 'short', 'shouldn', 'shut', 'sick', 'sign', 'signal', 'silly', 'simple', 'simply', 'single', 'sit', 'site', 'skeptic', 'skepticism', 'sky', 'slam', 'slow', 'small', 'smh', 'snow', 'snowflake', 'social', 'society', 'soil', 'solar', 'solution', 'solve', 'soon', 'sorry', 'sound', 'source', 'south', 'space', 'speak', 'special', 'specie', 'speech', 'spend', 'spread', 'spring', 'st', 'staff', 'stake', 'stance', 'stand', 'star', 'start', 'state', 'statement', 'states', 'stave', 'stay', 'step', 'stop', 'storm', 'story', 'strategy', 'strong', 'struggle', 'student', 'study', 'stuff', 'stupid', 'sue', 'suffer', 'suggest', 'summer', 'summit', 'sun', 'support', 'supporter', 'suppose', 'sure', 'surprise', 'survive', 'sustainable', 'tackle', 'talk', 'tank', 'target', 'tax', 'taxis', 'taxpayer', 'teach', 'team', 'tear', 'tech', 'technology', 'tell', 'temp', 'temperature', 'term', 'terrify', 'territory', 'terrorism', 'texas', 'th', 'thank', 'theory', 'theresa', 'thing', 'think', 'thought', 'thousand', 'threat', 'threaten', 'tie', 'tillerson', 'time', 'times', 'today', 'tomorrow', 'tonight', 'topic', 'total', 'town', 'tracker', 'trade', 'transform', 'transition', 'travel', 'treat', 'treaty', 'tree', 'trial', 'trigger', 'trillion', 'true', 'trump', 'truth', 'try', 'turn', 'turnbull', 'tv', 'tweet', 'twitter', 'uk', 'uncharted', 'uncontrollable', 'understand', 'underwater', 'undo', 'united', 'university', 'unless', 'update', 'ur', 'urge', 'urgent', 'url', 'usa', 'use', 'value', 've', 'vegan', 'verge', 'victim', 'victory', 'video', 'view', 'virtually', 'visit', 'voice', 'vote', 'voter', 'voting', 'vow', 'vs', 'vulnerable', 'wage', 'wait', 'wake', 'walk', 'wall', 'wanna', 'want', 'war', 'warm', 'warming', 'warn', 'warning', 'wash', 'washington', 'wasn', 'waste', 'watch', 'water', 'wave', 'way', 'wayne', 'weapon', 'wear', 'weather', 'web', 'website', 'week', 'welcome', 'west', 'wh', 'white', 'wi', 'wild', 'wildlife', 'win', 'wing', 'winter', 'wish', 'withdraw', 'woman', 'wonder', 'word', 'work', 'worker', 'world', 'worldwide', 'worried', 'worry', 'worsen', 'worth', 'wouldn', 'wow', 'write', 'wrong', 'ya', 'yeah', 'year', 'yes', 'yesterday', 'york', 'young', 'youth', 'yr', 'yrs', 'zero']\n"
     ]
    }
   ],
   "source": [
    "print(tfidf.get_feature_names())\n"
   ]
  },
  {
   "cell_type": "code",
   "execution_count": 37,
   "metadata": {},
   "outputs": [],
   "source": [
    "X_train, X_val, y_train, y_val = train_test_split(X_vect_smote, y_smote)"
   ]
  },
  {
   "cell_type": "code",
   "execution_count": 38,
   "metadata": {},
   "outputs": [],
   "source": [
    "classifiers = [\n",
    "    LogisticRegression(),\n",
    "    KNeighborsClassifier(),\n",
    "    SVC(),\n",
    "    DecisionTreeClassifier(),\n",
    "    RandomForestClassifier(),\n",
    "    AdaBoostClassifier(),\n",
    "    MLPClassifier()\n",
    "]"
   ]
  },
  {
   "cell_type": "code",
   "execution_count": 42,
   "metadata": {},
   "outputs": [
    {
     "name": "stderr",
     "output_type": "stream",
     "text": [
      "C:\\Users\\Mathew\\anaconda3\\envs\\Climate_Change_Belief_Analysis\\lib\\site-packages\\sklearn\\linear_model\\_logistic.py:764: ConvergenceWarning: lbfgs failed to converge (status=1):\n",
      "STOP: TOTAL NO. of ITERATIONS REACHED LIMIT.\n",
      "\n",
      "Increase the number of iterations (max_iter) or scale the data as shown in:\n",
      "    https://scikit-learn.org/stable/modules/preprocessing.html\n",
      "Please also refer to the documentation for alternative solver options:\n",
      "    https://scikit-learn.org/stable/modules/linear_model.html#logistic-regression\n",
      "  extra_warning_msg=_LOGISTIC_SOLVER_CONVERGENCE_MSG)\n"
     ]
    }
   ],
   "source": [
    "results = []\n",
    "\n",
    "models = {}\n",
    "confusion = {}\n",
    "class_report = {}\n",
    "\n",
    "names = ['Logistic Regression', 'Nearest Neighbors',\n",
    "         'SVM','Decision Tree', 'Random Forest','AdaBoost Classifier','MLPClassifier']\n",
    "for clf, name in zip(classifiers, names):\n",
    "    model = clf\n",
    "    model.fit(X_train,y_train)\n",
    "    y_pred = model.predict(X_val)\n",
    "    \n",
    "    f1 = metrics.f1_score(y_val, y_pred, average='macro')\n",
    "    results.append([name, f1])\n",
    "results = pd.DataFrame(results, columns=['Classifier', 'F1 Score'])  "
   ]
  },
  {
   "cell_type": "code",
   "execution_count": 43,
   "metadata": {},
   "outputs": [
    {
     "data": {
      "text/html": [
       "<div>\n",
       "<style scoped>\n",
       "    .dataframe tbody tr th:only-of-type {\n",
       "        vertical-align: middle;\n",
       "    }\n",
       "\n",
       "    .dataframe tbody tr th {\n",
       "        vertical-align: top;\n",
       "    }\n",
       "\n",
       "    .dataframe thead th {\n",
       "        text-align: right;\n",
       "    }\n",
       "</style>\n",
       "<table border=\"1\" class=\"dataframe\">\n",
       "  <thead>\n",
       "    <tr style=\"text-align: right;\">\n",
       "      <th></th>\n",
       "      <th>Classifier</th>\n",
       "      <th>F1 Test</th>\n",
       "    </tr>\n",
       "  </thead>\n",
       "  <tbody>\n",
       "    <tr>\n",
       "      <th>6</th>\n",
       "      <td>MLPClassifier</td>\n",
       "      <td>0.902409</td>\n",
       "    </tr>\n",
       "    <tr>\n",
       "      <th>2</th>\n",
       "      <td>SVM</td>\n",
       "      <td>0.891520</td>\n",
       "    </tr>\n",
       "    <tr>\n",
       "      <th>4</th>\n",
       "      <td>Random Forest</td>\n",
       "      <td>0.844608</td>\n",
       "    </tr>\n",
       "    <tr>\n",
       "      <th>0</th>\n",
       "      <td>Logistic Regression</td>\n",
       "      <td>0.753368</td>\n",
       "    </tr>\n",
       "    <tr>\n",
       "      <th>3</th>\n",
       "      <td>Decision Tree</td>\n",
       "      <td>0.732149</td>\n",
       "    </tr>\n",
       "    <tr>\n",
       "      <th>1</th>\n",
       "      <td>Nearest Neighbors</td>\n",
       "      <td>0.731608</td>\n",
       "    </tr>\n",
       "    <tr>\n",
       "      <th>5</th>\n",
       "      <td>AdaBoost Classifier</td>\n",
       "      <td>0.609251</td>\n",
       "    </tr>\n",
       "  </tbody>\n",
       "</table>\n",
       "</div>"
      ],
      "text/plain": [
       "            Classifier   F1 Test\n",
       "6        MLPClassifier  0.902409\n",
       "2                  SVM  0.891520\n",
       "4        Random Forest  0.844608\n",
       "0  Logistic Regression  0.753368\n",
       "3        Decision Tree  0.732149\n",
       "1    Nearest Neighbors  0.731608\n",
       "5  AdaBoost Classifier  0.609251"
      ]
     },
     "execution_count": 43,
     "metadata": {},
     "output_type": "execute_result"
    }
   ],
   "source": [
    "results.sort_values('F1 Score', ascending=False)"
   ]
  },
  {
   "cell_type": "code",
   "execution_count": 44,
   "metadata": {},
   "outputs": [],
   "source": [
    "X_test = test_df['message']\n",
    "test_vectorized = tfidf.transform(X_test)"
   ]
  },
  {
   "cell_type": "code",
   "execution_count": 53,
   "metadata": {},
   "outputs": [],
   "source": [
    "X_test_df = test_df['message']"
   ]
  },
  {
   "cell_type": "code",
   "execution_count": 54,
   "metadata": {},
   "outputs": [],
   "source": [
    "test_vectorized = tfidf.transform(X_test_df)"
   ]
  },
  {
   "cell_type": "code",
   "execution_count": 62,
   "metadata": {},
   "outputs": [
    {
     "name": "stderr",
     "output_type": "stream",
     "text": [
      "C:\\Users\\Mathew\\anaconda3\\envs\\Climate_Change_Belief_Analysis\\lib\\site-packages\\sklearn\\neural_network\\_multilayer_perceptron.py:585: ConvergenceWarning: Stochastic Optimizer: Maximum iterations (200) reached and the optimization hasn't converged yet.\n",
      "  % self.max_iter, ConvergenceWarning)\n"
     ]
    },
    {
     "data": {
      "text/plain": [
       "0.9035498417126824"
      ]
     },
     "execution_count": 62,
     "metadata": {},
     "output_type": "execute_result"
    }
   ],
   "source": [
    "mlp = MLPClassifier()\n",
    "mlp.fit(X_train, y_train)\n",
    "mlp_val_pred = mlp.predict(X_val)\n",
    "f1 = metrics.f1_score(y_val, mlp_val_pred, average='macro')\n",
    "f1"
   ]
  },
  {
   "cell_type": "code",
   "execution_count": 63,
   "metadata": {},
   "outputs": [],
   "source": [
    "#svm_test_pred = svm.predict(test_vectorized)"
   ]
  },
  {
   "cell_type": "code",
   "execution_count": 65,
   "metadata": {},
   "outputs": [],
   "source": [
    "#test_df['sentiment'] = svm_test_pred\n",
    "#test_df[['tweetid','sentiment']].to_csv('MLP_test.csv', index=0)"
   ]
  },
  {
   "cell_type": "code",
   "execution_count": 67,
   "metadata": {},
   "outputs": [
    {
     "data": {
      "text/html": [
       "<div>\n",
       "<style scoped>\n",
       "    .dataframe tbody tr th:only-of-type {\n",
       "        vertical-align: middle;\n",
       "    }\n",
       "\n",
       "    .dataframe tbody tr th {\n",
       "        vertical-align: top;\n",
       "    }\n",
       "\n",
       "    .dataframe thead th {\n",
       "        text-align: right;\n",
       "    }\n",
       "</style>\n",
       "<table border=\"1\" class=\"dataframe\">\n",
       "  <thead>\n",
       "    <tr style=\"text-align: right;\">\n",
       "      <th></th>\n",
       "      <th>tweetid</th>\n",
       "      <th>sentiment</th>\n",
       "    </tr>\n",
       "  </thead>\n",
       "  <tbody>\n",
       "    <tr>\n",
       "      <th>0</th>\n",
       "      <td>169760</td>\n",
       "      <td>1</td>\n",
       "    </tr>\n",
       "    <tr>\n",
       "      <th>1</th>\n",
       "      <td>35326</td>\n",
       "      <td>1</td>\n",
       "    </tr>\n",
       "    <tr>\n",
       "      <th>2</th>\n",
       "      <td>224985</td>\n",
       "      <td>1</td>\n",
       "    </tr>\n",
       "    <tr>\n",
       "      <th>3</th>\n",
       "      <td>476263</td>\n",
       "      <td>1</td>\n",
       "    </tr>\n",
       "    <tr>\n",
       "      <th>4</th>\n",
       "      <td>872928</td>\n",
       "      <td>0</td>\n",
       "    </tr>\n",
       "  </tbody>\n",
       "</table>\n",
       "</div>"
      ],
      "text/plain": [
       "   tweetid  sentiment\n",
       "0   169760          1\n",
       "1    35326          1\n",
       "2   224985          1\n",
       "3   476263          1\n",
       "4   872928          0"
      ]
     },
     "execution_count": 67,
     "metadata": {},
     "output_type": "execute_result"
    }
   ],
   "source": [
    "#test_df[['tweetid','sentiment']].head()"
   ]
  },
  {
   "cell_type": "code",
   "execution_count": null,
   "metadata": {},
   "outputs": [],
   "source": [
    "params = {'activation':['logistic','‘relu'],''}\n",
    "grid = GridSerchCV()"
   ]
  }
 ],
 "metadata": {
  "kernelspec": {
   "display_name": "Python 3",
   "language": "python",
   "name": "python3"
  },
  "language_info": {
   "codemirror_mode": {
    "name": "ipython",
    "version": 3
   },
   "file_extension": ".py",
   "mimetype": "text/x-python",
   "name": "python",
   "nbconvert_exporter": "python",
   "pygments_lexer": "ipython3",
   "version": "3.7.9"
  }
 },
 "nbformat": 4,
 "nbformat_minor": 4
}
