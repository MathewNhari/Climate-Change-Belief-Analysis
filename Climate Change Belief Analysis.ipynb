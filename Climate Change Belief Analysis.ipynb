{
 "cells": [
  {
   "cell_type": "code",
   "execution_count": 1,
   "metadata": {},
   "outputs": [],
   "source": [
    "import numpy as np\n",
    "import pandas as pd\n",
    "import matplotlib.pyplot as plt\n",
    "import seaborn as sns\n",
    "import string\n",
    "import re\n",
    "from imblearn.over_sampling import SMOTE\n",
    "%matplotlib inline"
   ]
  },
  {
   "cell_type": "code",
   "execution_count": 2,
   "metadata": {},
   "outputs": [],
   "source": [
    "import spacy\n",
    "from sklearn.feature_extraction.text import TfidfVectorizer\n",
    "from sklearn.model_selection import train_test_split\n",
    "\n",
    "from sklearn import metrics\n",
    "from sklearn.svm import SVC\n",
    "from sklearn.linear_model import LogisticRegression\n",
    "from sklearn.neighbors import KNeighborsClassifier\n",
    "from sklearn.preprocessing import StandardScaler\n",
    "from sklearn.ensemble import RandomForestClassifier, AdaBoostClassifier\n",
    "from sklearn.tree import DecisionTreeClassifier\n",
    "from sklearn.neural_network import MLPClassifier\n",
    "\n",
    "from sklearn.model_selection import GridSearchCV\n",
    "\n",
    "from sklearn.utils import resample"
   ]
  },
  {
   "cell_type": "code",
   "execution_count": 3,
   "metadata": {},
   "outputs": [],
   "source": [
    "nlp = spacy.load(\"en_core_web_sm\")"
   ]
  },
  {
   "cell_type": "code",
   "execution_count": 4,
   "metadata": {},
   "outputs": [
    {
     "data": {
      "text/html": [
       "<div>\n",
       "<style scoped>\n",
       "    .dataframe tbody tr th:only-of-type {\n",
       "        vertical-align: middle;\n",
       "    }\n",
       "\n",
       "    .dataframe tbody tr th {\n",
       "        vertical-align: top;\n",
       "    }\n",
       "\n",
       "    .dataframe thead th {\n",
       "        text-align: right;\n",
       "    }\n",
       "</style>\n",
       "<table border=\"1\" class=\"dataframe\">\n",
       "  <thead>\n",
       "    <tr style=\"text-align: right;\">\n",
       "      <th></th>\n",
       "      <th>tweetid</th>\n",
       "      <th>sentiment</th>\n",
       "    </tr>\n",
       "  </thead>\n",
       "  <tbody>\n",
       "    <tr>\n",
       "      <th>0</th>\n",
       "      <td>169760</td>\n",
       "      <td>1</td>\n",
       "    </tr>\n",
       "    <tr>\n",
       "      <th>1</th>\n",
       "      <td>35326</td>\n",
       "      <td>1</td>\n",
       "    </tr>\n",
       "    <tr>\n",
       "      <th>2</th>\n",
       "      <td>224985</td>\n",
       "      <td>1</td>\n",
       "    </tr>\n",
       "    <tr>\n",
       "      <th>3</th>\n",
       "      <td>476263</td>\n",
       "      <td>1</td>\n",
       "    </tr>\n",
       "    <tr>\n",
       "      <th>4</th>\n",
       "      <td>872928</td>\n",
       "      <td>1</td>\n",
       "    </tr>\n",
       "  </tbody>\n",
       "</table>\n",
       "</div>"
      ],
      "text/plain": [
       "   tweetid  sentiment\n",
       "0   169760          1\n",
       "1    35326          1\n",
       "2   224985          1\n",
       "3   476263          1\n",
       "4   872928          1"
      ]
     },
     "execution_count": 4,
     "metadata": {},
     "output_type": "execute_result"
    }
   ],
   "source": [
    "pd.read_csv('sample_submission.csv').head()"
   ]
  },
  {
   "cell_type": "code",
   "execution_count": 5,
   "metadata": {},
   "outputs": [
    {
     "data": {
      "text/html": [
       "<div>\n",
       "<style scoped>\n",
       "    .dataframe tbody tr th:only-of-type {\n",
       "        vertical-align: middle;\n",
       "    }\n",
       "\n",
       "    .dataframe tbody tr th {\n",
       "        vertical-align: top;\n",
       "    }\n",
       "\n",
       "    .dataframe thead th {\n",
       "        text-align: right;\n",
       "    }\n",
       "</style>\n",
       "<table border=\"1\" class=\"dataframe\">\n",
       "  <thead>\n",
       "    <tr style=\"text-align: right;\">\n",
       "      <th></th>\n",
       "      <th>sentiment</th>\n",
       "      <th>message</th>\n",
       "      <th>tweetid</th>\n",
       "    </tr>\n",
       "  </thead>\n",
       "  <tbody>\n",
       "    <tr>\n",
       "      <th>0</th>\n",
       "      <td>1</td>\n",
       "      <td>PolySciMajor EPA chief doesn't think carbon di...</td>\n",
       "      <td>625221</td>\n",
       "    </tr>\n",
       "    <tr>\n",
       "      <th>1</th>\n",
       "      <td>1</td>\n",
       "      <td>It's not like we lack evidence of anthropogeni...</td>\n",
       "      <td>126103</td>\n",
       "    </tr>\n",
       "    <tr>\n",
       "      <th>2</th>\n",
       "      <td>2</td>\n",
       "      <td>RT @RawStory: Researchers say we have three ye...</td>\n",
       "      <td>698562</td>\n",
       "    </tr>\n",
       "    <tr>\n",
       "      <th>3</th>\n",
       "      <td>1</td>\n",
       "      <td>#TodayinMaker# WIRED : 2016 was a pivotal year...</td>\n",
       "      <td>573736</td>\n",
       "    </tr>\n",
       "    <tr>\n",
       "      <th>4</th>\n",
       "      <td>1</td>\n",
       "      <td>RT @SoyNovioDeTodas: It's 2016, and a racist, ...</td>\n",
       "      <td>466954</td>\n",
       "    </tr>\n",
       "  </tbody>\n",
       "</table>\n",
       "</div>"
      ],
      "text/plain": [
       "   sentiment                                            message  tweetid\n",
       "0          1  PolySciMajor EPA chief doesn't think carbon di...   625221\n",
       "1          1  It's not like we lack evidence of anthropogeni...   126103\n",
       "2          2  RT @RawStory: Researchers say we have three ye...   698562\n",
       "3          1  #TodayinMaker# WIRED : 2016 was a pivotal year...   573736\n",
       "4          1  RT @SoyNovioDeTodas: It's 2016, and a racist, ...   466954"
      ]
     },
     "execution_count": 5,
     "metadata": {},
     "output_type": "execute_result"
    }
   ],
   "source": [
    "train_df = pd.read_csv('train.csv')\n",
    "test_df = pd.read_csv('test.csv')\n",
    "train_df.head()"
   ]
  },
  {
   "cell_type": "code",
   "execution_count": 6,
   "metadata": {},
   "outputs": [
    {
     "name": "stdout",
     "output_type": "stream",
     "text": [
      "<class 'pandas.core.frame.DataFrame'>\n",
      "RangeIndex: 15819 entries, 0 to 15818\n",
      "Data columns (total 3 columns):\n",
      " #   Column     Non-Null Count  Dtype \n",
      "---  ------     --------------  ----- \n",
      " 0   sentiment  15819 non-null  int64 \n",
      " 1   message    15819 non-null  object\n",
      " 2   tweetid    15819 non-null  int64 \n",
      "dtypes: int64(2), object(1)\n",
      "memory usage: 370.9+ KB\n"
     ]
    }
   ],
   "source": [
    "train_df.info()"
   ]
  },
  {
   "cell_type": "code",
   "execution_count": 7,
   "metadata": {},
   "outputs": [],
   "source": [
    "X = train_df['message']\n",
    "y = train_df['sentiment']"
   ]
  },
  {
   "cell_type": "code",
   "execution_count": 8,
   "metadata": {},
   "outputs": [
    {
     "data": {
      "text/plain": [
       " 1    8530\n",
       " 2    3640\n",
       " 0    2353\n",
       "-1    1296\n",
       "Name: sentiment, dtype: int64"
      ]
     },
     "execution_count": 8,
     "metadata": {},
     "output_type": "execute_result"
    }
   ],
   "source": [
    "anti = train_df[y==-1]\n",
    "neutral = train_df[y==0]\n",
    "pro = train_df[y==1]\n",
    "news = train_df[y==2]\n",
    "\n",
    "y.value_counts()\n"
   ]
  },
  {
   "cell_type": "code",
   "execution_count": 9,
   "metadata": {},
   "outputs": [
    {
     "data": {
      "image/png": "[encoded data removed]",
      "text/plain": [
       "<Figure size 432x288 with 1 Axes>"
      ]
     },
     "metadata": {
      "needs_background": "light"
     },
     "output_type": "display_data"
    }
   ],
   "source": [
    "labels = y.unique()\n",
    "heights = [len(anti),len(neutral),len(pro),len(news)]\n",
    "plt.bar(labels,heights,color='grey')\n",
    "plt.xticks(labels,['-1','0','1','2'])\n",
    "plt.ylabel(\"No of observations\")\n",
    "plt.show()"
   ]
  },
  {
   "cell_type": "markdown",
   "metadata": {},
   "source": [
    "Data Cleaning"
   ]
  },
  {
   "cell_type": "code",
   "execution_count": 10,
   "metadata": {},
   "outputs": [],
   "source": [
    "#Setting the resamples to half the size of the majority sample\n",
    "#sample_size = int(len(pro)/2)\n",
    "\n",
    "# Downsample majority\n",
    "#downsampled = resample(pro,replace=False,n_samples=sample_size,random_state=42)\n",
    "# Upsample minority\n",
    "#upsampled = resample(neutral,replace=True,n_samples=sample_size,random_state=42)\n",
    "#upsampled2 = resample(anti,replace=True,n_samples=sample_size,random_state=42)\n",
    "#upsampled3 = resample(news,replace=True,n_samples=sample_size,random_state=42)\n",
    "\n",
    "#train_df = pd.concat([downsampled,upsampled,upsampled2,upsampled3])\n",
    "#train_df['sentiment'].value_counts()"
   ]
  },
  {
   "cell_type": "code",
   "execution_count": 11,
   "metadata": {},
   "outputs": [],
   "source": [
    "#anti = train_df[train_df['sentiment']==-1]\n",
    "#neutral = train_df[train_df['sentiment']==0]\n",
    "#pro = train_df[train_df['sentiment']==1]\n",
    "#news = train_df[train_df['sentiment']==2]\n",
    "#labels = train_df['sentiment'].unique()\n",
    "#heights = [len(anti),len(neutral),len(pro),len(news)]\n",
    "#plt.bar(labels,heights,color='grey')\n",
    "#plt.xticks(labels,['-1','0','1','2'])\n",
    "#plt.ylabel(\"# of observations\")\n",
    "#plt.show()"
   ]
  },
  {
   "cell_type": "code",
   "execution_count": 12,
   "metadata": {},
   "outputs": [
    {
     "data": {
      "text/plain": [
       "'!\"#$%&\\'()*+,-./:;<=>?@[\\\\]^_`{|}~'"
      ]
     },
     "execution_count": 12,
     "metadata": {},
     "output_type": "execute_result"
    }
   ],
   "source": [
    "string.punctuation"
   ]
  },
  {
   "cell_type": "code",
   "execution_count": 13,
   "metadata": {},
   "outputs": [
    {
     "data": {
      "text/html": [
       "<div>\n",
       "<style scoped>\n",
       "    .dataframe tbody tr th:only-of-type {\n",
       "        vertical-align: middle;\n",
       "    }\n",
       "\n",
       "    .dataframe tbody tr th {\n",
       "        vertical-align: top;\n",
       "    }\n",
       "\n",
       "    .dataframe thead th {\n",
       "        text-align: right;\n",
       "    }\n",
       "</style>\n",
       "<table border=\"1\" class=\"dataframe\">\n",
       "  <thead>\n",
       "    <tr style=\"text-align: right;\">\n",
       "      <th></th>\n",
       "      <th>sentiment</th>\n",
       "      <th>message</th>\n",
       "      <th>tweetid</th>\n",
       "      <th>url</th>\n",
       "    </tr>\n",
       "  </thead>\n",
       "  <tbody>\n",
       "    <tr>\n",
       "      <th>0</th>\n",
       "      <td>1</td>\n",
       "      <td>PolySciMajor EPA chief doesn't think carbon di...</td>\n",
       "      <td>625221</td>\n",
       "      <td>https://t.co/yeLvcEFXkC</td>\n",
       "    </tr>\n",
       "    <tr>\n",
       "      <th>1</th>\n",
       "      <td>1</td>\n",
       "      <td>It's not like we lack evidence of anthropogeni...</td>\n",
       "      <td>126103</td>\n",
       "      <td></td>\n",
       "    </tr>\n",
       "    <tr>\n",
       "      <th>2</th>\n",
       "      <td>2</td>\n",
       "      <td>RT @RawStory: Researchers say we have three ye...</td>\n",
       "      <td>698562</td>\n",
       "      <td>https://t.co/WdT0KdUr2fhttps://t.co/Z0ANPT</td>\n",
       "    </tr>\n",
       "    <tr>\n",
       "      <th>3</th>\n",
       "      <td>1</td>\n",
       "      <td>#TodayinMaker# WIRED : 2016 was a pivotal year...</td>\n",
       "      <td>573736</td>\n",
       "      <td>https://t.co/44wOTxTLcD</td>\n",
       "    </tr>\n",
       "    <tr>\n",
       "      <th>4</th>\n",
       "      <td>1</td>\n",
       "      <td>RT @SoyNovioDeTodas: It's 2016, and a racist, ...</td>\n",
       "      <td>466954</td>\n",
       "      <td></td>\n",
       "    </tr>\n",
       "  </tbody>\n",
       "</table>\n",
       "</div>"
      ],
      "text/plain": [
       "   sentiment                                            message  tweetid  \\\n",
       "0          1  PolySciMajor EPA chief doesn't think carbon di...   625221   \n",
       "1          1  It's not like we lack evidence of anthropogeni...   126103   \n",
       "2          2  RT @RawStory: Researchers say we have three ye...   698562   \n",
       "3          1  #TodayinMaker# WIRED : 2016 was a pivotal year...   573736   \n",
       "4          1  RT @SoyNovioDeTodas: It's 2016, and a racist, ...   466954   \n",
       "\n",
       "                                          url  \n",
       "0                     https://t.co/yeLvcEFXkC  \n",
       "1                                              \n",
       "2  https://t.co/WdT0KdUr2fhttps://t.co/Z0ANPT  \n",
       "3                     https://t.co/44wOTxTLcD  \n",
       "4                                              "
      ]
     },
     "execution_count": 13,
     "metadata": {},
     "output_type": "execute_result"
    }
   ],
   "source": [
    "#If we get url maybe we can extract text data from the urls\n",
    "def get_url(sent):\n",
    "    pattern = r'http[s]?://(?:[A-Za-z]|[0-9]|[$-_@.&+]|[!*\\(\\),]|(?:%[0-9A-Fa-f][0-9A-Fa-f]))+'\n",
    "    return ''.join(re.findall(pattern,sent))\n",
    "train_df['url'] = train_df['message'].apply(get_url)\n",
    "test_df['url'] = test_df['message'].apply(get_url)\n",
    "train_df.head()"
   ]
  },
  {
   "cell_type": "code",
   "execution_count": 14,
   "metadata": {},
   "outputs": [],
   "source": [
    "def remove_url(df):\n",
    "    pattern_url = r'http[s]?://(?:[A-Za-z]|[0-9]|[$-_@.&+]|[!*\\(\\),]|(?:%[0-9A-Fa-f][0-9A-Fa-f]))+'\n",
    "    url = r'url-web'\n",
    "    df['message'] = df['message'].replace(to_replace = pattern_url, value = url, regex = True)\n",
    "    return df"
   ]
  },
  {
   "cell_type": "code",
   "execution_count": 15,
   "metadata": {},
   "outputs": [],
   "source": [
    "train_df = remove_url(train_df)\n",
    "test_df = remove_url(test_df)"
   ]
  },
  {
   "cell_type": "code",
   "execution_count": 16,
   "metadata": {},
   "outputs": [],
   "source": [
    "# add RT as a stopword\n",
    "for word in ['RT','https','http']:\n",
    "    nlp.Defaults.stop_words.add(word)\n",
    "    nlp.vocab[word].is_stop = True"
   ]
  },
  {
   "cell_type": "code",
   "execution_count": 23,
   "metadata": {},
   "outputs": [],
   "source": [
    "def clean_message(message):\n",
    "    return ' '.join(re.sub(\"(@[A-Za-z0-9]+)|([^0-9A-Za-z\\t])|(\\w+:\\/\\/\\S+)\",\" \",message).split())\n",
    "\n",
    "train_df['message'] = train_df['message'].apply(clean_message)\n",
    "test_df['message'] = test_df['message'].apply(clean_message)"
   ]
  },
  {
   "cell_type": "code",
   "execution_count": 24,
   "metadata": {},
   "outputs": [],
   "source": [
    "#Remove all punctuation in message column\n",
    "def remove_punctuation(message):\n",
    "    punct = string.punctuation +'0123456789'\n",
    "    return ''.join([l for l in message if l not in punct])\n",
    "train_df['message'] = train_df['message'].apply(remove_punctuation)\n",
    "test_df['message'] = test_df['message'].apply(remove_punctuation)"
   ]
  },
  {
   "cell_type": "code",
   "execution_count": 25,
   "metadata": {},
   "outputs": [],
   "source": [
    "def lemma_text(text):\n",
    "    return ' '.join([token.lemma_ for token in nlp(text)])\n",
    "\n",
    "train_df['message'] = train_df['message'].apply(lemma_text)\n",
    "test_df['message'] = test_df['message'].apply(lemma_text)"
   ]
  },
  {
   "cell_type": "markdown",
   "metadata": {},
   "source": [
    "#Data Cleaned"
   ]
  },
  {
   "cell_type": "code",
   "execution_count": 26,
   "metadata": {},
   "outputs": [],
   "source": [
    "X = train_df['message']\n",
    "tfidf = TfidfVectorizer(strip_accents='ascii',stop_words='english',min_df=0.001,ngram_range=(1,2))\n",
    "X_vectorized = tfidf.fit_transform(X)"
   ]
  },
  {
   "cell_type": "code",
   "execution_count": 27,
   "metadata": {},
   "outputs": [],
   "source": [
    "smote = SMOTE(random_state =42)\n",
    "X_vect_smote, y_smote = smote.fit_sample(X_vectorized,y)"
   ]
  },
  {
   "cell_type": "code",
   "execution_count": 28,
   "metadata": {},
   "outputs": [
    {
     "data": {
      "text/plain": [
       "34120"
      ]
     },
     "execution_count": 28,
     "metadata": {},
     "output_type": "execute_result"
    }
   ],
   "source": [
    "len(y_smote)"
   ]
  },
  {
   "cell_type": "code",
   "execution_count": 29,
   "metadata": {},
   "outputs": [
    {
     "data": {
      "image/png": "[encoded data removed]",
      "text/plain": [
       "<Figure size 432x288 with 1 Axes>"
      ]
     },
     "metadata": {
      "needs_background": "light"
     },
     "output_type": "display_data"
    }
   ],
   "source": [
    "anti = y_smote[y_smote==-1]\n",
    "neutral = y_smote[y_smote==0]\n",
    "pro = y_smote[y_smote==1]\n",
    "news = y_smote[y_smote==2]\n",
    "labels = y_smote.unique()\n",
    "heights = [len(anti),len(neutral),len(pro),len(news)]\n",
    "plt.bar(labels,heights,color='grey')\n",
    "plt.xticks(labels,['-1','0','1','2'])\n",
    "plt.ylabel(\"# of observations\")\n",
    "plt.show()"
   ]
  },
  {
   "cell_type": "code",
   "execution_count": 30,
   "metadata": {},
   "outputs": [
    {
     "name": "stdout",
     "output_type": "stream",
     "text": [
      "['abandon', 'abc', 'abortion', 'absolutely', 'abt', 'accelerate', 'accept', 'accept climate', 'accord', 'account', 'acknowledge', 'act', 'act climate', 'action', 'action beforetheflood', 'action climate', 'action url', 'activist', 'activity', 'actonclimate', 'actually', 'ad', 'adapt', 'adapt climate', 'adaptation', 'add', 'address', 'address climate', 'admin', 'administration', 'administrator', 'admit', 'advance', 'advisory', 'advocate', 'affect', 'affect climate', 'affect pron', 'africa', 'ag', 'age', 'age pron', 'agency', 'agenda', 'ago', 'agree', 'agree climate', 'agreement', 'agreement climate', 'agreement url', 'agriculture', 'ahead', 'aim', 'air', 'air pollution', 'al', 'al gore', 'alarm', 'alarmist', 'alaska', 'alia', 'allow', 'alter', 'america', 'america country', 'america pron', 'american', 'americans', 'amid', 'amp', 'amp climate', 'amp global', 'amp pron', 'anemone', 'anemone cracks', 'angry', 'angry caller', 'animal', 'animal agriculture', 'announce', 'answer', 'antarctica', 'anthropogenic', 'anti', 'anymore', 'apparently', 'appoint', 'approach', 'approach climate', 'arctic', 'arctic ice', 'area', 'aren', 'argue', 'argument', 'article', 'asia', 'ask', 'ask pron', 'ass', 'attack', 'attend', 'attention', 'auspol', 'australia', 'australian', 'author', 'avoid', 'awareness', 'away', 'bad', 'bad climate', 'bad pron', 'bad url', 'ban', 'bank', 'barrier', 'barrier reef', 'base', 'basically', 'battle', 'battle climate', 'bbc', 'bbc news', 'bc', 'bear', 'beat', 'bee', 'beforetheflood', 'beforetheflood right', 'beforetheflood url', 'begin', 'belief', 'believe', 'believe climate', 'believe equality', 'believe global', 'believe man', 'believe pron', 'believe science', 'benefit', 'bernie', 'bernie sanders', 'bet', 'betwe', 'big', 'big oil', 'big problem', 'big threat', 'billion', 'billion dollar', 'billion solar', 'biodiversity', 'bird', 'bitch', 'black', 'blame', 'blame climate', 'blame global', 'bleach', 'bleach anemone', 'block', 'blog', 'bloomberg', 'blow', 'board', 'body', 'bold', 'book', 'boost', 'bottle', 'boy', 'brain', 'break', 'break climate', 'breaking', 'breitbart', 'brexit', 'bright', 'bring', 'brown', 'bs', 'budget', 'build', 'bullshit', 'bunch', 'burn', 'business', 'buy', 'ca', 'cabinet', 'california', 'caller', 'caller pron', 'campaign', 'canada', 'cancel', 'cancel billion', 'candidate', 'cap', 'car', 'carbon', 'carbon dioxide', 'carbon emission', 'care', 'care climate', 'care global', 'care pron', 'case', 'case pron', 'catastrophe', 'catastrophic', 'catastrophic climate', 'catch', 'cause', 'cause climate', 'cause global', 'cause human', 'cause pron', 'cdc', 'century', 'ceo', 'ch', 'challenge', 'chance', 'change', 'change action', 'change adaptation', 'change affect', 'change agenda', 'change agreement', 'change amp', 'change beforetheflood', 'change big', 'change book', 'change cause', 'change chinese', 'change city', 'change climate', 'change concern', 'change conference', 'change conflict', 'change datum', 'change deal', 'change debate', 'change deni', 'change denial', 'change denier', 'change deny', 'change despite', 'change doc', 'change documentary', 'change doesn', 'change donald', 'change environment', 'change exist', 'change expert', 'change fact', 'change fake', 'change fight', 'change frightening', 'change future', 'change global', 'change goal', 'change good', 'change great', 'change happen', 'change hoax', 'change https', 'change human', 'change impact', 'change importance', 'change isn', 'change issue', 'change just', 'change kill', 'change lead', 'change let', 'change like', 'change look', 'change make', 'change man', 'change mean', 'change million', 'change myth', 'change national', 'change new', 'change news', 'change pact', 'change page', 'change pay', 'change plan', 'change policy', 'change problem', 'change program', 'change pron', 'change push', 'change real', 'change report', 'change research', 'change risk', 'change say', 'change science', 'change scientist', 'change scott', 'change seriously', 'change skeptic', 'change solution', 'change study', 'change support', 'change talk', 'change thing', 'change threat', 'change threaten', 'change tonight', 'change trump', 'change url', 'change watch', 'change win', 'change world', 'change year', 'channel', 'charge', 'charles', 'check', 'chicago', 'chief', 'chief say', 'chief scott', 'child', 'china', 'china criticize', 'china lecture', 'china tell', 'chinese', 'chinese hoax', 'chinese order', 'choice', 'choice global', 'choose', 'christmas', 'cite', 'citizen', 'city', 'civil', 'civil right', 'claim', 'claim climate', 'class', 'clean', 'clean air', 'clean energy', 'clear', 'climate', 'climate change', 'climate home', 'climate scientist', 'climate url', 'climatechange', 'climatechange url', 'climatemarch', 'clinton', 'clinton combat', 'clinton email', 'close', 'club', 'club penguin', 'cnn', 'coal', 'coal url', 'coast', 'coastal', 'cold', 'column', 'combat', 'combat climate', 'combat global', 'come', 'come climate', 'come pron', 'comment', 'commit', 'commitment', 'committee', 'common', 'community', 'company', 'competiti', 'competitive', 'complain', 'completely', 'complex', 'comprehensive', 'comprehensive immigration', 'concept', 'concept global', 'concern', 'concern climate', 'concerned', 'conference', 'confirm', 'conflict', 'conflict limited', 'confront', 'congress', 'congressman', 'consensus', 'consequence', 'conservative', 'consider', 'conspiracy', 'continue', 'continue fight', 'contradict', 'contradict epa', 'contribute', 'contribute climate', 'contribute global', 'contribution', 'contributor', 'contributor climate', 'contributor global', 'control', 'conversation', 'convince', 'cook', 'cool', 'cooperation', 'cooperation betwe', 'cop', 'cop url', 'cope', 'coral', 'coral reef', 'corporate', 'cost', 'council', 'country', 'country pron', 'country world', 'course', 'court', 'cover', 'cracks', 'cracks ice', 'crazy', 'create', 'create chinese', 'create new', 'crime', 'crime url', 'crisis', 'critical', 'criticize', 'criticize trump', 'crop', 'curb', 'curb climate', 'current', 'cut', 'dad', 'daily', 'damage', 'damn', 'dana', 'danger', 'dangerous', 'dangerous climate', 'dark', 'datum', 'datum url', 'david', 'day', 'day climate', 'dead', 'deadly', 'deal', 'deal climate', 'deal url', 'dear', 'death', 'debate', 'debate climate', 'decade', 'decide', 'decision', 'deep', 'defend', 'defense', 'deforestation', 'defy', 'degree', 'delay', 'delete', 'deluge', 'deluge angry', 'dem', 'demand', 'democrats', 'deni', 'deni head', 'deni pron', 'denial', 'denial url', 'denier', 'denier url', 'deny', 'deny carbon', 'deny climate', 'deny global', 'deny pron', 'department', 'dept', 'deserve', 'design', 'despite', 'despite trump', 'destroy', 'develop', 'di', 'diabetes', 'dicaprio', 'dicaprio climate', 'didn', 'die', 'die climate', 'die old', 'die pron', 'difference', 'dioxide', 'dioxide cause', 'dioxide primary', 'directly', 'director', 'disappear', 'disaster', 'disaster url', 'discuss', 'discuss climate', 'discussion', 'disease', 'dispute', 'doc', 'document', 'documentary', 'doesn', 'doesn believe', 'doesn exist', 'doesn think', 'doesn want', 'dollar', 'don', 'don address', 'don believe', 'don know', 'don pron', 'don think', 'don worry', 'donald', 'donald trump', 'doom', 'double', 'doubt', 'dr', 'dramatically', 'drive', 'drive climate', 'driver', 'drop', 'drought', 'dude', 'dumb', 'dup', 'dupe', 'dupe manipulate', 'early', 'earth', 'earth pron', 'earthday', 'easy', 'eat', 'economic', 'economy', 'economy url', 'ecosystem', 'ed', 'editorial', 'education', 'effect', 'effect climate', 'effect global', 'effective', 'effort', 'effort url', 'elect', 'elect doesn', 'elect trump', 'election', 'eliminate', 'email', 'emission', 'employee', 'end', 'end global', 'end pron', 'energy', 'energy climate', 'energy department', 'enjoy', 'enter', 'entire', 'environment', 'environment url', 'environmental', 'environmentalist', 'epa', 'epa administrator', 'epa chief', 'epa climate', 'epa head', 'epa remove', 'epa url', 'epa website', 'episode', 'equality', 'equality pron', 'equity', 'equity woman', 'era', 'especially', 'eu', 'europe', 'event', 'evidence', 'evidence climate', 'evolution', 'exactly', 'example', 'excellent', 'executive', 'executive order', 'exist', 'exist pron', 'exist url', 'exit', 'exit climate', 'expect', 'expect pron', 'experience', 'expert', 'expert say', 'explain', 'explain pron', 'explore', 'extinction', 'extreme', 'extreme weather', 'extremely', 'exxon', 'exxon mobil', 'exxonmobil', 'eye', 'face', 'face climate', 'fact', 'fact climate', 'fact pron', 'factor', 'fail', 'failure', 'fake', 'fake news', 'fall', 'false', 'falsely', 'family', 'famine', 'far', 'farmer', 'fascist', 'fast', 'fear', 'february', 'fed', 'federal', 'feel', 'fight', 'fight climate', 'fight global', 'film', 'finally', 'fish', 'fix', 'flat', 'flood', 'florida', 'fly', 'focus', 'follow', 'food', 'fool', 'force', 'forest', 'forget', 'forward', 'fossi', 'fossil', 'fossil fuel', 'fox', 'fox news', 'france', 'francis', 'fraud', 'free', 'freeze', 'friend', 'friend die', 'frightening', 'frightening country', 'fuck', 'fucking', 'fuel', 'fund', 'funding', 'funny', 'future', 'future planet', 'game', 'gas', 'gates', 'gay', 'gender', 'general', 'generation', 'geographic', 'giant', 'girl', 'glacier', 'glad', 'global', 'global climate', 'global level', 'global warm', 'global warming', 'globalwarme', 'globalwarming', 'goal', 'god', 'good', 'good news', 'good thing', 'google', 'gop', 'gore', 'gov', 'gov jerry', 'government', 'government climate', 'governor', 'govt', 'great', 'great barrier', 'green', 'greenhouse', 'ground', 'group', 'grow', 'growth', 'gt', 'guardian', 'guardian url', 'guess', 'guess pron', 'gun', 'guy', 'habitat', 'hack', 'half', 'half billion', 'hand', 'happen', 'happen pron', 'happen url', 'happy', 'hard', 'harm', 'harvey', 'hate', 'haven', 'head', 'head epa', 'head scott', 'health', 'health care', 'healthcare', 'hear', 'heat', 'hell', 'hell global', 'hello', 'hello pron', 'help', 'help fight', 'help pron', 'hey', 'high', 'highlight', 'hillary', 'hillary clinton', 'hire', 'history', 'hit', 'hoax', 'hoax pron', 'hoax url', 'hold', 'home', 'home climate', 'honestly', 'hope', 'hope pron', 'hot', 'hot pron', 'hot year', 'hour', 'house', 'house climate', 'house website', 'hrc', 'hrc propose', 'ht', 'htt', 'http', 'https', 'huge', 'human', 'human activity', 'human cause', 'humanity', 'hurricane', 'hurricane harvey', 'hurt', 'husband', 'husband doesn', 'hypocrite', 'ice', 'ice age', 'ice climate', 'ice melt', 'iceberg', 'idea', 'idiot', 'ignorance', 'ignorant', 'ignore', 'ignore climate', 'ignore pron', 'image', 'imagine', 'immigration', 'immigration reform', 'impact', 'impact climate', 'importance', 'importance cooperation', 'important', 'improve', 'imvotingbecause', 'imvotingbecause future', 'inaction', 'inaction climate', 'include', 'inconvenient', 'increase', 'independent', 'india', 'indian', 'indigenous', 'individual', 'industry', 'inequality', 'influence', 'info', 'information', 'initiative', 'innovation', 'inspiration', 'inspiration pron', 'instal', 'instal half', 'instead', 'interested', 'interesting', 'interior', 'international', 'internet', 'interview', 'interviewer', 'interviewer pron', 'invent', 'invent url', 'invest', 'investment', 'investor', 'involve', 'irony', 'isis', 'island', 'isn', 'isn hoax', 'isn real', 'issue', 'issue climate', 'issue pron', 'issue raise', 'issue url', 'ivanka', 'ivotedbecause', 'ivotedbecause pron', 'james', 'jerry', 'jerry brown', 'jet', 'job', 'john', 'john kerry', 'join', 'join combat', 'join pron', 'joke', 'journalist', 'judge', 'just', 'just elect', 'just join', 'just like', 'just pron', 'justice', 'kerry', 'key', 'kid', 'kid climate', 'kill', 'kill pron', 'kind', 'kind pron', 'know', 'know climate', 'know global', 'know pron', 'knowledge', 'lack', 'land', 'large', 'late', 'later', 'launch', 'law', 'lawsuit', 'lead', 'lead cause', 'lead climate', 'lead epa', 'leader', 'leader climate', 'leader doesn', 'leader dupe', 'leadership', 'learn', 'leave', 'lecture', 'lecture united', 'left', 'leo', 'leonardo', 'leonardo dicaprio', 'let', 'let pron', 'letter', 'level', 'level rise', 'level url', 'lgbt', 'lgbt right', 'liberal', 'lie', 'life', 'light', 'like', 'like climate', 'like global', 'like pron', 'likely', 'limit', 'limit global', 'limited', 'limited resource', 'line', 'link', 'link climate', 'link global', 'list', 'listen', 'listen scientist', 'literally', 'little', 'live', 'lmao', 'local', 'lol', 'long', 'long term', 'look', 'look bright', 'look like', 'look pron', 'lose', 'loss', 'lot', 'love', 'low', 'macron', 'mad', 'maga', 'mail', 'main', 'main cause', 'major', 'major issue', 'majority', 'make', 'make climate', 'make global', 'make manufacturing', 'make pron', 'malcolm', 'man', 'man make', 'manipulate', 'manipulate global', 'manmade', 'manufacturing', 'manufacturing non', 'map', 'march', 'mark', 'market', 'marriage', 'mass', 'massive', 'matter', 'maybe', 'maybe climate', 'maybe pron', 'mayor', 'mean', 'mean pron', 'measure', 'meat', 'medium', 'meet', 'meeting', 'melania', 'melania trump', 'melt', 'melt trigger', 'mental', 'mention', 'mention climate', 'message', 'methane', 'michael', 'michael bloomberg', 'mid', 'middle', 'military', 'million', 'million people', 'mind', 'minimum', 'minimum wage', 'minister', 'minute', 'mislead', 'miss', 'mitigate', 'mitigate climate', 'mitigation', 'mobil', 'model', 'money', 'money url', 'month', 'moon', 'morning', 'moron', 'movement', 'movie', 'mp', 'mr', 'myth', 'nasa', 'nation', 'national', 'national geographic', 'national park', 'national security', 'natural', 'natural resources', 'nature', 'nearly', 'need', 'need comprehensive', 'need pron', 'network', 'new', 'new climate', 'new epa', 'new new', 'new study', 'new world', 'new york', 'news', 'news climate', 'news url', 'nice', 'night', 'noaa', 'nominee', 'non', 'non competiti', 'non competitive', 'normal', 'north', 'note', 'november', 'november pron', 'nuclear', 'nuclear war', 'nuclear winter', 'number', 'ny', 'nyc', 'nye', 'nyt', 'obama', 'obama climate', 'ocean', 'offer', 'office', 'office deluge', 'official', 'oh', 'oil', 'oil company', 'ok', 'okay', 'old', 'old age', 'online', 'open', 'opinion', 'opportunity', 'oppose', 'order', 'order make', 'org', 'outside', 'pacific', 'pact', 'pact url', 'page', 'pakistan', 'panel', 'panel end', 'paper', 'parent', 'paris', 'paris accord', 'paris agreement', 'paris climate', 'parisagreement', 'park', 'party', 'pass', 'past', 'pay', 'pay equity', 'peace', 'penguin', 'penguin crime', 'penguin penguin', 'penguin shut', 'pentagon', 'people', 'people believe', 'people climate', 'people don', 'people pron', 'people say', 'people think', 'perry', 'person', 'petition', 'photo', 'phrase', 'phrase climate', 'physics', 'pick', 'piece', 'pipeline', 'place', 'plan', 'plan climate', 'plan exit', 'plan url', 'planet', 'planet stake', 'plant', 'plastic', 'play', 'pledge', 'plus', 'pm', 'point', 'polar', 'polar bear', 'policy', 'policy climate', 'policy url', 'politic', 'political', 'politician', 'poll', 'pollution', 'poor', 'pope', 'pope francis', 'popular', 'population', 'pose', 'position', 'position climate', 'possible', 'post', 'post pron', 'post url', 'potential', 'poverty', 'power', 'powerful', 'ppl', 'pre', 'predict', 'prediction', 'prepare', 'preserve', 'presidency', 'president', 'president believe', 'president doesn', 'president elect', 'president think', 'president trump', 'presidential', 'press', 'pressure', 'pretend', 'pretty', 'prevent', 'prevent climate', 'price', 'primary', 'primary cause', 'primary contributor', 'prince', 'prince charles', 'priority', 'private', 'pro', 'pro choice', 'probably', 'problem', 'problem climate', 'problem pron', 'profit', 'program', 'progress', 'project', 'promise', 'pron', 'pron act', 'pron actually', 'pron agree', 'pron amp', 'pron ask', 'pron bad', 'pron believe', 'pron big', 'pron blame', 'pron build', 'pron care', 'pron cause', 'pron change', 'pron child', 'pron city', 'pron climate', 'pron cold', 'pron come', 'pron consider', 'pron continue', 'pron country', 'pron create', 'pron degree', 'pron deny', 'pron destroy', 'pron didn', 'pron die', 'pron doesn', 'pron don', 'pron elect', 'pron enjoy', 'pron expect', 'pron eye', 'pron face', 'pron feel', 'pron fight', 'pron freeze', 'pron friend', 'pron fuck', 'pron future', 'pron global', 'pron good', 'pron great', 'pron guess', 'pron guy', 'pron happen', 'pron hear', 'pron help', 'pron hoax', 'pron hope', 'pron hot', 'pron husband', 'pron inspiration', 'pron invent', 'pron join', 'pron just', 'pron kid', 'pron kind', 'pron know', 'pron late', 'pron like', 'pron listen', 'pron literally', 'pron live', 'pron look', 'pron love', 'pron majority', 'pron make', 'pron mean', 'pron mind', 'pron money', 'pron need', 'pron new', 'pron people', 'pron planet', 'pron policy', 'pron president', 'pron pro', 'pron pron', 'pron question', 'pron read', 'pron real', 'pron really', 'pron right', 'pron say', 'pron snow', 'pron spend', 'pron stand', 'pron start', 'pron stop', 'pron strong', 'pron support', 'pron sure', 'pron talk', 'pron tell', 'pron term', 'pron think', 'pron time', 'pron trump', 'pron try', 'pron tweet', 'pron understand', 'pron url', 'pron use', 'pron ve', 'pron view', 'pron vote', 'pron want', 'pron way', 'pron website', 'pron win', 'pron wonder', 'pron work', 'pron world', 'pron wrong', 'pron year', 'proof', 'propose', 'propose instal', 'protect', 'protect pron', 'protection', 'protest', 'protester', 'prove', 'prove climate', 'pruitt', 'pruitt climate', 'pruitt deny', 'pruitt office', 'pruitt say', 'public', 'publish', 'pull', 'push', 'push world', 'putin', 'qanda', 'question', 'question climate', 'question science', 'quick', 'race', 'racism', 'racist', 'radical', 'rain', 'raise', 'raise minimum', 'rapid', 'rare', 'rare china', 'rate', 'reach', 'react', 'read', 'read pron', 'read url', 'ready', 'real', 'real pron', 'real url', 'reality', 'reality climate', 'realize', 'really', 'really know', 'reason', 'recent', 'recognize', 'record', 'record break', 'red', 'reduce', 'reef', 'reference', 'reform', 'reform pron', 'refugee', 'refuse', 'refute', 'regardless', 'regulation', 'reject', 'relate', 'release', 'religion', 'religious', 'remain', 'remember', 'reminder', 'remove', 'remove climate', 'renewable', 'renewable energy', 'report', 'report climate', 'report url', 'republican', 'republicans', 'request', 'require', 'research', 'research climate', 'research url', 'researcher', 'resilience', 'resist', 'resource', 'resource pron', 'resources', 'respect', 'respond', 'response', 'response climate', 'responsible', 'rest', 'rest world', 'result', 'return', 'retweet', 'reuters', 'reveal', 'reverse', 'reverse climate', 'review', 'rex', 'rex tillerson', 'rich', 'rick', 'rick perry', 'right', 'right climate', 'right pron', 'right travel', 'right url', 'rise', 'rise sea', 'risk', 'risk climate', 'risk url', 'river', 'role', 'role climate', 'roll', 'rt', 'rt al', 'rt america', 'rt americans', 'rt arctic', 'rt big', 'rt breaking', 'rt china', 'rt climate', 'rt climatechange', 'rt concept', 'rt don', 'rt donald', 'rt energy', 'rt epa', 'rt exxon', 'rt global', 'rt good', 'rt gop', 'rt great', 'rt hey', 'rt hrc', 'rt imvotingbecause', 'rt interviewer', 'rt ivotedbecause', 'rt just', 'rt let', 'rt look', 'rt man', 'rt national', 'rt new', 'rt news', 'rt obama', 'rt paris', 'rt people', 'rt polar', 'rt president', 'rt pron', 'rt record', 'rt remember', 'rt rex', 'rt rt', 'rt say', 'rt science', 'rt scientist', 'rt scott', 'rt snow', 'rt thank', 'rt thing', 'rt time', 'rt today', 'rt trump', 'rt uk', 'rt url', 'rt virtually', 'rt want', 'rt watch', 'rt white', 'rt world', 'rt wow', 'rt year', 'rule', 'run', 'russia', 'russian', 'sad', 'safe', 'sanders', 'satellite', 'save', 'save pron', 'say', 'say carbon', 'say climate', 'say global', 'say mr', 'say pron', 'say trump', 'say url', 'scale', 'scam', 'scary', 'sceptic', 'school', 'science', 'science climate', 'science global', 'science pron', 'science url', 'scientific', 'scientist', 'scientist agree', 'scientist climate', 'scientist fossi', 'scientist pron', 'scientist say', 'scientist url', 'scientists', 'scott', 'scott pruitt', 'sea', 'sea ice', 'sea level', 'season', 'sec', 'second', 'secretary', 'secretary state', 'security', 'seek', 'sell', 'senate', 'senator', 'send', 'sense', 'sequel', 'series', 'seriously', 'seriously url', 'set', 'settle', 'sexist', 'share', 'shift', 'shit', 'short', 'shouldn', 'shut', 'sick', 'sign', 'sign climate', 'sign executive', 'signal', 'silly', 'simple', 'simply', 'single', 'sit', 'site', 'skeptic', 'skepticism', 'sky', 'slam', 'slow', 'slow climate', 'small', 'smh', 'snow', 'snow bleach', 'snowflake', 'social', 'society', 'soil', 'solar', 'solar panel', 'solution', 'solution climate', 'solution url', 'solve', 'solve climate', 'soon', 'sorry', 'sound', 'source', 'south', 'space', 'speak', 'speak climate', 'special', 'specie', 'speech', 'spend', 'spread', 'spring', 'st', 'staff', 'stake', 'stake hillary', 'stance', 'stance climate', 'stand', 'stand climate', 'star', 'start', 'state', 'statement', 'states', 'states climate', 'stave', 'stave climate', 'stay', 'step', 'stop', 'stop climate', 'stop global', 'stop pron', 'storm', 'story', 'strategy', 'strong', 'strong pron', 'struggle', 'student', 'study', 'study climate', 'study url', 'stuff', 'stupid', 'sue', 'suffer', 'suggest', 'summer', 'summit', 'sun', 'support', 'support climate', 'support pron', 'supporter', 'suppose', 'sure', 'surprise', 'survive', 'sustainable', 'tackle', 'tackle climate', 'talk', 'talk climate', 'talk global', 'talk pron', 'tank', 'target', 'tax', 'taxi', 'taxpayer', 'teach', 'team', 'tear', 'tech', 'technology', 'tell', 'tell pron', 'tell trump', 'temp', 'temperature', 'term', 'term climate', 'term trump', 'terrify', 'territory', 'territory url', 'terrorism', 'test', 'texas', 'th', 'thank', 'thank climate', 'thank pron', 'theory', 'theresa', 'thing', 'thing climate', 'thing pron', 'think', 'think climate', 'think global', 'think pron', 'think tank', 'think url', 'thousand', 'threat', 'threat climate', 'threat pron', 'threaten', 'threaten climate', 'tie', 'tillerson', 'tillerson use', 'time', 'time pron', 'times', 'today', 'today pron', 'today url', 'tomorrow', 'tonight', 'topic', 'total', 'town', 'tracker', 'trade', 'transform', 'transition', 'transition team', 'travel', 'travel world', 'treat', 'treaty', 'tree', 'trial', 'trigger', 'trigger uncontrollable', 'trillion', 'true', 'trump', 'trump abandon', 'trump admin', 'trump administration', 'trump believe', 'trump budget', 'trump climate', 'trump deny', 'trump doesn', 'trump election', 'trump epa', 'trump global', 'trump hello', 'trump pick', 'trump plan', 'trump presidency', 'trump pron', 'trump really', 'trump request', 'trump say', 'trump sign', 'trump team', 'trump think', 'trump url', 'trump want', 'trump win', 'truth', 'truth climate', 'try', 'turn', 'turnbull', 'tv', 'tweet', 'tweet climate', 'tweet url', 'twitter', 'uk', 'uncharted', 'uncharted territory', 'uncontrollable', 'uncontrollable climate', 'understand', 'understand climate', 'underwater', 'undo', 'undo obama', 'unite', 'united', 'united states', 'university', 'unless', 'update', 'ur', 'urge', 'urgent', 'url', 'url web', 'usa', 'use', 'use alia', 'use phrase', 'value', 've', 'vegan', 'verge', 'victim', 'victory', 'video', 'video url', 'view', 'view climate', 'virtually', 'virtually major', 'visit', 'voice', 'vote', 'voter', 'vow', 'vs', 'vulnerable', 'wage', 'wage climate', 'wait', 'wake', 'walk', 'wall', 'wanna', 'want', 'want climate', 'want pron', 'war', 'war climate', 'warm', 'warm pron', 'warm weather', 'warming', 'warming amp', 'warming bad', 'warming cause', 'warming chinese', 'warming climate', 'warming create', 'warming datum', 'warming doesn', 'warming exist', 'warming hoax', 'warming isn', 'warming just', 'warming kill', 'warming make', 'warming melania', 'warming myth', 'warming penguin', 'warming pron', 'warming real', 'warming silly', 'warming url', 'warming way', 'warming year', 'warn', 'warn climate', 'warn trump', 'warn url', 'warning', 'wash', 'washington', 'washington post', 'wasn', 'waste', 'waste pron', 'watch', 'watch beforetheflood', 'watch pron', 'water', 'wave', 'way', 'way pron', 'wayne', 'wayne tracker', 'weapon', 'wear', 'weather', 'weather channel', 'weather climate', 'weather event', 'weather pron', 'web', 'web climate', 'web climatechange', 'web cop', 'web environment', 'web globalwarming', 'web htt', 'web http', 'web https', 'web pron', 'web url', 'website', 'website url', 'week', 'welcome', 'west', 'wh', 'white', 'white house', 'wi', 'wild', 'wildlife', 'win', 'win climate', 'wing', 'winter', 'wish', 'withdraw', 'woman', 'woman pron', 'woman right', 'wonder', 'word', 'work', 'work climate', 'work pron', 'worker', 'world', 'world china', 'world climate', 'world leader', 'world tackle', 'world uncharted', 'worldwide', 'worried', 'worry', 'worry climate', 'worry global', 'worsen', 'worth', 'wouldn', 'wow', 'write', 'wrong', 'ya', 'yeah', 'year', 'year ago', 'year climate', 'year global', 'year old', 'year pron', 'year url', 'yes', 'yes pron', 'yesterday', 'york', 'young', 'youth', 'yr', 'yrs', 'zero']\n"
     ]
    }
   ],
   "source": [
    "print(tfidf.get_feature_names())\n"
   ]
  },
  {
   "cell_type": "code",
   "execution_count": 31,
   "metadata": {},
   "outputs": [],
   "source": [
    "X_train, X_val, y_train, y_val = train_test_split(X_vect_smote, y_smote)"
   ]
  },
  {
   "cell_type": "code",
   "execution_count": 32,
   "metadata": {},
   "outputs": [],
   "source": [
    "classifiers = [\n",
    "    LogisticRegression(),\n",
    "    KNeighborsClassifier(),\n",
    "    SVC(),\n",
    "    DecisionTreeClassifier(),\n",
    "    RandomForestClassifier(),\n",
    "    AdaBoostClassifier(),\n",
    "    MLPClassifier()\n",
    "]"
   ]
  },
  {
   "cell_type": "code",
   "execution_count": null,
   "metadata": {},
   "outputs": [
    {
     "name": "stderr",
     "output_type": "stream",
     "text": [
      "C:\\Users\\Mathew\\anaconda3\\envs\\Climate_Change_Belief_Analysis\\lib\\site-packages\\sklearn\\linear_model\\_logistic.py:764: ConvergenceWarning: lbfgs failed to converge (status=1):\n",
      "STOP: TOTAL NO. of ITERATIONS REACHED LIMIT.\n",
      "\n",
      "Increase the number of iterations (max_iter) or scale the data as shown in:\n",
      "    https://scikit-learn.org/stable/modules/preprocessing.html\n",
      "Please also refer to the documentation for alternative solver options:\n",
      "    https://scikit-learn.org/stable/modules/linear_model.html#logistic-regression\n",
      "  extra_warning_msg=_LOGISTIC_SOLVER_CONVERGENCE_MSG)\n"
     ]
    }
   ],
   "source": [
    "results = []\n",
    "\n",
    "models = {}\n",
    "confusion = {}\n",
    "class_report = {}\n",
    "\n",
    "names = ['Logistic Regression', 'Nearest Neighbors',\n",
    "         'SVM','Decision Tree', 'Random Forest','AdaBoost Classifier','MLPClassifier']\n",
    "for clf, name in zip(classifiers, names):\n",
    "    model = clf\n",
    "    model.fit(X_train,y_train)\n",
    "    y_pred = model.predict(X_val)\n",
    "    \n",
    "    f1 = metrics.f1_score(y_val, y_pred, average='macro')\n",
    "    results.append([name, f1])\n",
    "results = pd.DataFrame(results, columns=['Classifier', 'F1 Score'])  "
   ]
  },
  {
   "cell_type": "code",
   "execution_count": null,
   "metadata": {},
   "outputs": [],
   "source": [
    "results.sort_values('F1 Score', ascending=False)"
   ]
  },
  {
   "cell_type": "code",
   "execution_count": null,
   "metadata": {},
   "outputs": [],
   "source": [
    "X_test = test_df['message']\n",
    "test_vectorized = tfidf.transform(X_test)"
   ]
  },
  {
   "cell_type": "code",
   "execution_count": null,
   "metadata": {},
   "outputs": [],
   "source": [
    "#X_test_df = test_df['message']"
   ]
  },
  {
   "cell_type": "code",
   "execution_count": null,
   "metadata": {},
   "outputs": [],
   "source": [
    "#test_vectorized = tfidf.transform(X_test_df)"
   ]
  },
  {
   "cell_type": "code",
   "execution_count": null,
   "metadata": {},
   "outputs": [],
   "source": [
    "mlp = MLPClassifier()\n",
    "mlp.fit(X_train, y_train)\n",
    "mlp_val_pred = mlp.predict(X_val)\n",
    "f1 = metrics.f1_score(y_val, mlp_val_pred, average='macro')\n",
    "f1"
   ]
  },
  {
   "cell_type": "code",
   "execution_count": null,
   "metadata": {},
   "outputs": [],
   "source": [
    "mlp_test_pred = mlp.predict(test_vectorized)"
   ]
  },
  {
   "cell_type": "code",
   "execution_count": null,
   "metadata": {},
   "outputs": [],
   "source": [
    "test_df['sentiment'] = mlp_test_pred\n",
    "test_df[['tweetid','sentiment']].to_csv('MLP_test_89.csv', index=0)"
   ]
  },
  {
   "cell_type": "raw",
   "metadata": {},
   "source": [
    "test_df[['tweetid','sentiment']].head()"
   ]
  },
  {
   "cell_type": "code",
   "execution_count": null,
   "metadata": {},
   "outputs": [],
   "source": [
    "best_params = {'activation': 'logistic', 'learning_rate': 'adaptive', 'solver': 'lbfgs'}"
   ]
  },
  {
   "cell_type": "code",
   "execution_count": null,
   "metadata": {},
   "outputs": [],
   "source": [
    "#params = {}\n",
    "#grid = GridSearchCV()"
   ]
  },
  {
   "cell_type": "code",
   "execution_count": null,
   "metadata": {},
   "outputs": [],
   "source": []
  },
  {
   "cell_type": "code",
   "execution_count": null,
   "metadata": {},
   "outputs": [],
   "source": []
  },
  {
   "cell_type": "code",
   "execution_count": null,
   "metadata": {},
   "outputs": [],
   "source": []
  },
  {
   "cell_type": "code",
   "execution_count": null,
   "metadata": {},
   "outputs": [],
   "source": []
  }
 ],
 "metadata": {
  "kernelspec": {
   "display_name": "Python 3",
   "language": "python",
   "name": "python3"
  },
  "language_info": {
   "codemirror_mode": {
    "name": "ipython",
    "version": 3
   },
   "file_extension": ".py",
   "mimetype": "text/x-python",
   "name": "python",
   "nbconvert_exporter": "python",
   "pygments_lexer": "ipython3",
   "version": "3.7.9"
  }
 },
 "nbformat": 4,
 "nbformat_minor": 4
}
