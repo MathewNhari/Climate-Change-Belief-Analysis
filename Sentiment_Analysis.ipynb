{
  "nbformat": 4,
  "nbformat_minor": 0,
  "metadata": {
    "colab": {
      "name": "Sentiment Analysis.ipynb",
      "provenance": [],
      "authorship_tag": "ABX9TyPi+IThb93c6Ng6vAFsgmTf",
      "include_colab_link": true
    },
    "kernelspec": {
      "name": "python3",
      "display_name": "Python 3"
    }
  },
  "cells": [
    {
      "cell_type": "markdown",
      "metadata": {
        "id": "view-in-github",
        "colab_type": "text"
      },
      "source": [
        "<a href=\"https://colab.research.google.com/github/MathewNhari/Climate-Change-Belief-Analysis/blob/main/Sentiment_Analysis.ipynb\" target=\"_parent\"><img src=\"https://colab.research.google.com/assets/colab-badge.svg\" alt=\"Open In Colab\"/></a>"
      ]
    },
    {
      "cell_type": "code",
      "metadata": {
        "id": "qgxkxj70wqpL",
        "outputId": "33c79f79-29a7-4953-f332-905c09c7675f",
        "colab": {
          "base_uri": "https://localhost:8080/",
          "height": 105
        }
      },
      "source": [
        "import numpy as np\n",
        "import pandas as pd\n",
        "import matplotlib.pyplot as plt\n",
        "import seaborn as sns\n",
        "import string\n",
        "import re\n",
        "from imblearn.over_sampling import SMOTE\n",
        "%matplotlib inline"
      ],
      "execution_count": 1,
      "outputs": [
        {
          "output_type": "stream",
          "text": [
            "/usr/local/lib/python3.6/dist-packages/sklearn/externals/six.py:31: FutureWarning: The module is deprecated in version 0.21 and will be removed in version 0.23 since we've dropped support for Python 2.7. Please rely on the official version of six (https://pypi.org/project/six/).\n",
            "  \"(https://pypi.org/project/six/).\", FutureWarning)\n",
            "/usr/local/lib/python3.6/dist-packages/sklearn/utils/deprecation.py:144: FutureWarning: The sklearn.neighbors.base module is  deprecated in version 0.22 and will be removed in version 0.24. The corresponding classes / functions should instead be imported from sklearn.neighbors. Anything that cannot be imported from sklearn.neighbors is now part of the private API.\n",
            "  warnings.warn(message, FutureWarning)\n"
          ],
          "name": "stderr"
        }
      ]
    },
    {
      "cell_type": "code",
      "metadata": {
        "id": "qA0y3VRZw9gV"
      },
      "source": [
        "import spacy\n",
        "from sklearn.feature_extraction.text import TfidfVectorizer\n",
        "from sklearn.model_selection import train_test_split\n",
        "\n",
        "from sklearn import metrics\n",
        "from sklearn.svm import SVC\n",
        "from sklearn.linear_model import LogisticRegression\n",
        "from sklearn.neighbors import KNeighborsClassifier\n",
        "from sklearn.preprocessing import StandardScaler\n",
        "from sklearn.ensemble import RandomForestClassifier, AdaBoostClassifier\n",
        "from sklearn.tree import DecisionTreeClassifier\n",
        "from sklearn.neural_network import MLPClassifier\n",
        "from sklearn.svm import LinearSVC \n",
        "\n",
        "from sklearn.model_selection import GridSearchCV\n",
        "\n",
        "from sklearn.utils import resample"
      ],
      "execution_count": 2,
      "outputs": []
    },
    {
      "cell_type": "code",
      "metadata": {
        "id": "odDQWxf1xMyg",
        "outputId": "2f9ea55a-0a27-4f23-f474-453762a7d32b",
        "colab": {
          "base_uri": "https://localhost:8080/",
          "height": 204
        }
      },
      "source": [
        "nlp = spacy.load(\"en_core_web_sm\")\n",
        "pd.read_csv('sample_submission.csv').head()"
      ],
      "execution_count": 3,
      "outputs": [
        {
          "output_type": "execute_result",
          "data": {
            "text/html": [
              "<div>\n",
              "<style scoped>\n",
              "    .dataframe tbody tr th:only-of-type {\n",
              "        vertical-align: middle;\n",
              "    }\n",
              "\n",
              "    .dataframe tbody tr th {\n",
              "        vertical-align: top;\n",
              "    }\n",
              "\n",
              "    .dataframe thead th {\n",
              "        text-align: right;\n",
              "    }\n",
              "</style>\n",
              "<table border=\"1\" class=\"dataframe\">\n",
              "  <thead>\n",
              "    <tr style=\"text-align: right;\">\n",
              "      <th></th>\n",
              "      <th>tweetid</th>\n",
              "      <th>sentiment</th>\n",
              "    </tr>\n",
              "  </thead>\n",
              "  <tbody>\n",
              "    <tr>\n",
              "      <th>0</th>\n",
              "      <td>169760</td>\n",
              "      <td>1</td>\n",
              "    </tr>\n",
              "    <tr>\n",
              "      <th>1</th>\n",
              "      <td>35326</td>\n",
              "      <td>1</td>\n",
              "    </tr>\n",
              "    <tr>\n",
              "      <th>2</th>\n",
              "      <td>224985</td>\n",
              "      <td>1</td>\n",
              "    </tr>\n",
              "    <tr>\n",
              "      <th>3</th>\n",
              "      <td>476263</td>\n",
              "      <td>1</td>\n",
              "    </tr>\n",
              "    <tr>\n",
              "      <th>4</th>\n",
              "      <td>872928</td>\n",
              "      <td>1</td>\n",
              "    </tr>\n",
              "  </tbody>\n",
              "</table>\n",
              "</div>"
            ],
            "text/plain": [
              "   tweetid  sentiment\n",
              "0   169760          1\n",
              "1    35326          1\n",
              "2   224985          1\n",
              "3   476263          1\n",
              "4   872928          1"
            ]
          },
          "metadata": {
            "tags": []
          },
          "execution_count": 3
        }
      ]
    },
    {
      "cell_type": "code",
      "metadata": {
        "id": "jSrL7BDOxUCB",
        "outputId": "739856e9-3bc3-493e-e7e1-d1104344bceb",
        "colab": {
          "base_uri": "https://localhost:8080/",
          "height": 204
        }
      },
      "source": [
        "train_df = pd.read_csv('train.csv')\n",
        "test_df = pd.read_csv('test.csv')\n",
        "train_df.head()"
      ],
      "execution_count": 4,
      "outputs": [
        {
          "output_type": "execute_result",
          "data": {
            "text/html": [
              "<div>\n",
              "<style scoped>\n",
              "    .dataframe tbody tr th:only-of-type {\n",
              "        vertical-align: middle;\n",
              "    }\n",
              "\n",
              "    .dataframe tbody tr th {\n",
              "        vertical-align: top;\n",
              "    }\n",
              "\n",
              "    .dataframe thead th {\n",
              "        text-align: right;\n",
              "    }\n",
              "</style>\n",
              "<table border=\"1\" class=\"dataframe\">\n",
              "  <thead>\n",
              "    <tr style=\"text-align: right;\">\n",
              "      <th></th>\n",
              "      <th>sentiment</th>\n",
              "      <th>message</th>\n",
              "      <th>tweetid</th>\n",
              "    </tr>\n",
              "  </thead>\n",
              "  <tbody>\n",
              "    <tr>\n",
              "      <th>0</th>\n",
              "      <td>1</td>\n",
              "      <td>PolySciMajor EPA chief doesn't think carbon di...</td>\n",
              "      <td>625221</td>\n",
              "    </tr>\n",
              "    <tr>\n",
              "      <th>1</th>\n",
              "      <td>1</td>\n",
              "      <td>It's not like we lack evidence of anthropogeni...</td>\n",
              "      <td>126103</td>\n",
              "    </tr>\n",
              "    <tr>\n",
              "      <th>2</th>\n",
              "      <td>2</td>\n",
              "      <td>RT @RawStory: Researchers say we have three ye...</td>\n",
              "      <td>698562</td>\n",
              "    </tr>\n",
              "    <tr>\n",
              "      <th>3</th>\n",
              "      <td>1</td>\n",
              "      <td>#TodayinMaker# WIRED : 2016 was a pivotal year...</td>\n",
              "      <td>573736</td>\n",
              "    </tr>\n",
              "    <tr>\n",
              "      <th>4</th>\n",
              "      <td>1</td>\n",
              "      <td>RT @SoyNovioDeTodas: It's 2016, and a racist, ...</td>\n",
              "      <td>466954</td>\n",
              "    </tr>\n",
              "  </tbody>\n",
              "</table>\n",
              "</div>"
            ],
            "text/plain": [
              "   sentiment                                            message  tweetid\n",
              "0          1  PolySciMajor EPA chief doesn't think carbon di...   625221\n",
              "1          1  It's not like we lack evidence of anthropogeni...   126103\n",
              "2          2  RT @RawStory: Researchers say we have three ye...   698562\n",
              "3          1  #TodayinMaker# WIRED : 2016 was a pivotal year...   573736\n",
              "4          1  RT @SoyNovioDeTodas: It's 2016, and a racist, ...   466954"
            ]
          },
          "metadata": {
            "tags": []
          },
          "execution_count": 4
        }
      ]
    },
    {
      "cell_type": "code",
      "metadata": {
        "id": "oRwH6X6txntF",
        "outputId": "251ad861-7dad-47b6-d73a-fcc486b2ff19",
        "colab": {
          "base_uri": "https://localhost:8080/",
          "height": 187
        }
      },
      "source": [
        "train_df.info()"
      ],
      "execution_count": 5,
      "outputs": [
        {
          "output_type": "stream",
          "text": [
            "<class 'pandas.core.frame.DataFrame'>\n",
            "RangeIndex: 15819 entries, 0 to 15818\n",
            "Data columns (total 3 columns):\n",
            " #   Column     Non-Null Count  Dtype \n",
            "---  ------     --------------  ----- \n",
            " 0   sentiment  15819 non-null  int64 \n",
            " 1   message    15819 non-null  object\n",
            " 2   tweetid    15819 non-null  int64 \n",
            "dtypes: int64(2), object(1)\n",
            "memory usage: 370.9+ KB\n"
          ],
          "name": "stdout"
        }
      ]
    },
    {
      "cell_type": "code",
      "metadata": {
        "id": "qkuyGWeFxsp6"
      },
      "source": [
        "X = train_df['message']\n",
        "y = train_df['sentiment']"
      ],
      "execution_count": 6,
      "outputs": []
    },
    {
      "cell_type": "code",
      "metadata": {
        "id": "Tv-p30j3x141",
        "outputId": "c56d37a9-9b83-4818-b550-a387ee2ebb81",
        "colab": {
          "base_uri": "https://localhost:8080/",
          "height": 102
        }
      },
      "source": [
        "anti = train_df[y==-1]\n",
        "neutral = train_df[y==0]\n",
        "pro = train_df[y==1]\n",
        "news = train_df[y==2]\n",
        "\n",
        "y.value_counts()"
      ],
      "execution_count": 7,
      "outputs": [
        {
          "output_type": "execute_result",
          "data": {
            "text/plain": [
              " 1    8530\n",
              " 2    3640\n",
              " 0    2353\n",
              "-1    1296\n",
              "Name: sentiment, dtype: int64"
            ]
          },
          "metadata": {
            "tags": []
          },
          "execution_count": 7
        }
      ]
    },
    {
      "cell_type": "code",
      "metadata": {
        "id": "wfwPobnKyAgy",
        "outputId": "cbc57705-7c12-4169-b1d1-05b6d0401571",
        "colab": {
          "base_uri": "https://localhost:8080/",
          "height": 265
        }
      },
      "source": [
        "labels = y.unique()\n",
        "heights = [len(anti),len(neutral),len(pro),len(news)]\n",
        "plt.bar(labels,heights,color='grey')\n",
        "plt.xticks(labels,['-1','0','1','2'])\n",
        "plt.ylabel(\"No of observations\")\n",
        "plt.show()"
      ],
      "execution_count": 8,
      "outputs": [
        {
          "output_type": "display_data",
          "data": {
            "image/png": "[encoded data removed]",
            "text/plain": [
              "<Figure size 432x288 with 1 Axes>"
            ]
          },
          "metadata": {
            "tags": [],
            "needs_background": "light"
          }
        }
      ]
    },
    {
      "cell_type": "code",
      "metadata": {
        "id": "a1vpxn2IyNN1"
      },
      "source": [
        "def clean_text(message):\n",
        "  message = re.sub(r'@[A-Za-z0-9]+','',message)\n",
        "  message = re.sub(r'#','',message)\n",
        "  message = re.sub(r'RT+','',message)\n",
        "  #message = re.sub(r'https?\\/\\/\\S+','url_web',message)\n",
        "  #message = re.findall('[A-Z][^A-Z]*',message)\n",
        "  return message\n",
        "  #' '.join(re.findall('[A-Z][^A-Z]*',message))\n",
        "\n",
        "train_df['message'] = train_df['message'].apply(clean_text)\n",
        "test_df['message'] = test_df['message'].apply(clean_text)"
      ],
      "execution_count": 9,
      "outputs": []
    },
    {
      "cell_type": "code",
      "metadata": {
        "id": "G-idJ6Z33IB6",
        "outputId": "751b1305-516f-47f4-ada6-294439a93b3a",
        "colab": {
          "base_uri": "https://localhost:8080/",
          "height": 419
        }
      },
      "source": [
        "train_df"
      ],
      "execution_count": 10,
      "outputs": [
        {
          "output_type": "execute_result",
          "data": {
            "text/html": [
              "<div>\n",
              "<style scoped>\n",
              "    .dataframe tbody tr th:only-of-type {\n",
              "        vertical-align: middle;\n",
              "    }\n",
              "\n",
              "    .dataframe tbody tr th {\n",
              "        vertical-align: top;\n",
              "    }\n",
              "\n",
              "    .dataframe thead th {\n",
              "        text-align: right;\n",
              "    }\n",
              "</style>\n",
              "<table border=\"1\" class=\"dataframe\">\n",
              "  <thead>\n",
              "    <tr style=\"text-align: right;\">\n",
              "      <th></th>\n",
              "      <th>sentiment</th>\n",
              "      <th>message</th>\n",
              "      <th>tweetid</th>\n",
              "    </tr>\n",
              "  </thead>\n",
              "  <tbody>\n",
              "    <tr>\n",
              "      <th>0</th>\n",
              "      <td>1</td>\n",
              "      <td>PolySciMajor EPA chief doesn't think carbon di...</td>\n",
              "      <td>625221</td>\n",
              "    </tr>\n",
              "    <tr>\n",
              "      <th>1</th>\n",
              "      <td>1</td>\n",
              "      <td>It's not like we lack evidence of anthropogeni...</td>\n",
              "      <td>126103</td>\n",
              "    </tr>\n",
              "    <tr>\n",
              "      <th>2</th>\n",
              "      <td>2</td>\n",
              "      <td>: Researchers say we have three years to act ...</td>\n",
              "      <td>698562</td>\n",
              "    </tr>\n",
              "    <tr>\n",
              "      <th>3</th>\n",
              "      <td>1</td>\n",
              "      <td>TodayinMaker WIRED : 2016 was a pivotal year i...</td>\n",
              "      <td>573736</td>\n",
              "    </tr>\n",
              "    <tr>\n",
              "      <th>4</th>\n",
              "      <td>1</td>\n",
              "      <td>: It's 2016, and a racist, sexist, climate ch...</td>\n",
              "      <td>466954</td>\n",
              "    </tr>\n",
              "    <tr>\n",
              "      <th>...</th>\n",
              "      <td>...</td>\n",
              "      <td>...</td>\n",
              "      <td>...</td>\n",
              "    </tr>\n",
              "    <tr>\n",
              "      <th>15814</th>\n",
              "      <td>1</td>\n",
              "      <td>: They took down the material on global warmi...</td>\n",
              "      <td>22001</td>\n",
              "    </tr>\n",
              "    <tr>\n",
              "      <th>15815</th>\n",
              "      <td>2</td>\n",
              "      <td>: How climate change could be breaking up a 2...</td>\n",
              "      <td>17856</td>\n",
              "    </tr>\n",
              "    <tr>\n",
              "      <th>15816</th>\n",
              "      <td>0</td>\n",
              "      <td>notiven: : nytimesworld :What does Trump actua...</td>\n",
              "      <td>384248</td>\n",
              "    </tr>\n",
              "    <tr>\n",
              "      <th>15817</th>\n",
              "      <td>-1</td>\n",
              "      <td>: Hey liberals the climate change crap is a h...</td>\n",
              "      <td>819732</td>\n",
              "    </tr>\n",
              "    <tr>\n",
              "      <th>15818</th>\n",
              "      <td>0</td>\n",
              "      <td>_Cannon: .'s 'climate change equation' in 4 s...</td>\n",
              "      <td>806319</td>\n",
              "    </tr>\n",
              "  </tbody>\n",
              "</table>\n",
              "<p>15819 rows × 3 columns</p>\n",
              "</div>"
            ],
            "text/plain": [
              "       sentiment                                            message  tweetid\n",
              "0              1  PolySciMajor EPA chief doesn't think carbon di...   625221\n",
              "1              1  It's not like we lack evidence of anthropogeni...   126103\n",
              "2              2   : Researchers say we have three years to act ...   698562\n",
              "3              1  TodayinMaker WIRED : 2016 was a pivotal year i...   573736\n",
              "4              1   : It's 2016, and a racist, sexist, climate ch...   466954\n",
              "...          ...                                                ...      ...\n",
              "15814          1   : They took down the material on global warmi...    22001\n",
              "15815          2   : How climate change could be breaking up a 2...    17856\n",
              "15816          0  notiven: : nytimesworld :What does Trump actua...   384248\n",
              "15817         -1   : Hey liberals the climate change crap is a h...   819732\n",
              "15818          0   _Cannon: .'s 'climate change equation' in 4 s...   806319\n",
              "\n",
              "[15819 rows x 3 columns]"
            ]
          },
          "metadata": {
            "tags": []
          },
          "execution_count": 10
        }
      ]
    },
    {
      "cell_type": "code",
      "metadata": {
        "id": "ETTE4f0yNblB"
      },
      "source": [
        "#Remove all punctuation in message column\n",
        "#def remove_punctuation(message):\n",
        "#    punct = string.punctuation +'0123456789'\n",
        "#    return ''.join([l for l in message if l not in punct])\n",
        "#train_df['message'] = train_df['message'].apply(remove_punctuation)\n",
        "#test_df['message'] = test_df['message'].apply(remove_punctuation)"
      ],
      "execution_count": 11,
      "outputs": []
    },
    {
      "cell_type": "code",
      "metadata": {
        "id": "ctqIyl7BUIZr"
      },
      "source": [
        "def remove_url(df):\n",
        "    pattern_url = r'http[s]?://(?:[A-Za-z]|[0-9]|[$-_@.&+]|[!*\\(\\),]|(?:%[0-9A-Fa-f][0-9A-Fa-f]))+'\n",
        "    url = r'url-web'\n",
        "    df['message'] = df['message'].replace(to_replace = pattern_url, value = url, regex = True)\n",
        "    return df"
      ],
      "execution_count": 12,
      "outputs": []
    },
    {
      "cell_type": "code",
      "metadata": {
        "id": "nrRGZUdoT7r9"
      },
      "source": [
        "#def clean_message(message):\n",
        "#    return ' '.join(re.sub(\"(@[A-Za-z0-9]+)|([^0-9A-Za-z\\t])|(\\w+:\\/\\/\\S+)\",\" \",message).split())\n",
        "\n",
        "#train_df['message'] = train_df['message'].apply(clean_message)\n",
        "#test_df['message'] = test_df['message'].apply(clean_message)"
      ],
      "execution_count": 13,
      "outputs": []
    },
    {
      "cell_type": "code",
      "metadata": {
        "id": "g67vuOVrUNSi"
      },
      "source": [
        "def lemma_text(text):\n",
        "    return ' '.join([token.lemma_ for token in nlp(text)])\n",
        "\n",
        "train_df['message'] = train_df['message'].apply(lemma_text)\n",
        "test_df['message'] = test_df['message'].apply(lemma_text)"
      ],
      "execution_count": 14,
      "outputs": []
    },
    {
      "cell_type": "code",
      "metadata": {
        "id": "u0DR0h13O01b"
      },
      "source": [
        "X = train_df['message']\n",
        "tfidf = TfidfVectorizer(strip_accents='ascii',stop_words='english',min_df=0.001,ngram_range=(1,2))\n",
        "X_vectorized = tfidf.fit_transform(X)"
      ],
      "execution_count": 15,
      "outputs": []
    },
    {
      "cell_type": "code",
      "metadata": {
        "id": "Nc8o9K_2PYDV",
        "outputId": "93568e22-fde7-42c8-948c-6f4a4e9faa7c",
        "colab": {
          "base_uri": "https://localhost:8080/",
          "height": 71
        }
      },
      "source": [
        "smote = SMOTE(random_state =42)\n",
        "X_vect_smote, y_smote = smote.fit_sample(X_vectorized,y)"
      ],
      "execution_count": 16,
      "outputs": [
        {
          "output_type": "stream",
          "text": [
            "/usr/local/lib/python3.6/dist-packages/sklearn/utils/deprecation.py:87: FutureWarning: Function safe_indexing is deprecated; safe_indexing is deprecated in version 0.22 and will be removed in version 0.24.\n",
            "  warnings.warn(msg, category=FutureWarning)\n"
          ],
          "name": "stderr"
        }
      ]
    },
    {
      "cell_type": "code",
      "metadata": {
        "id": "BUQOsrgqPfRo",
        "outputId": "6bebe6a3-7ee6-4f8e-85f7-c1105a6d8daa",
        "colab": {
          "base_uri": "https://localhost:8080/",
          "height": 54
        }
      },
      "source": [
        "print(tfidf.get_feature_names())"
      ],
      "execution_count": 17,
      "outputs": [
        {
          "output_type": "stream",
          "text": [
            "['000', '10', '100', '11', '12', '15', '16', '17', '1st', '20', '200', '2015', '2016', '2017', '2050', '21', '21 kid', '30', '40', '50', '50 year', '500', '60', '70', '80', '97', 'aa', 'aaa', 'aaa https', 'aaa pron', 'aaa raise', 'abandon', 'abortion', 'absolutely', 'abt', 'accelerate', 'accept', 'accept climate', 'accord', 'account', 'acknowledge', 'act', 'act climate', 'action', 'action beforetheflood', 'action climate', 'action https', 'activist', 'activity', 'actonclimate', 'actually', 'ad', 'adapt', 'adapt climate', 'adaptation', 'add', 'address', 'address climate', 'admin', 'administration', 'administrator', 'admit', 'advance', 'advisory', 'advocate', 'affect', 'affect climate', 'affect pron', 'africa', 'ag', 'age', 'agency', 'agenda', 'ago', 'agree', 'agree climate', 'agreement', 'agreement climate', 'agreement https', 'agriculture', 'ahead', 'aim', 'air', 'air pollution', 'al', 'al gore', 'alarm', 'alarmist', 'alaska', 'alia', 'alias', 'allow', 'alter', 'america', 'america country', 'america pron', 'american', 'americans', 'amid', 'amp', 'amp climate', 'amp global', 'amp pron', 'anemone', 'anemone crack', 'angry', 'angry caller', 'animal', 'animal agriculture', 'announce', 'answer', 'antarctica', 'anthropogenic', 'anti', 'anymore', 'apparently', 'appoint', 'approach', 'approach climate', 'arctic', 'arctic ice', 'area', 'argue', 'argument', 'article', 'asia', 'ask', 'ask pron', 'ass', 'attack', 'attend', 'attention', 'auspol', 'australia', 'australian', 'author', 'avoid', 'awareness', 'away', 'bad', 'bad climate', 'bad https', 'bad pron', 'ban', 'bank', 'barrier', 'barrier reef', 'base', 'basically', 'battle', 'battle climate', 'bbc', 'bbc news', 'bc', 'bear', 'beat', 'bee', 'beforetheflood', 'beforetheflood https', 'beforetheflood right', 'begin', 'belief', 'believe', 'believe climate', 'believe equality', 'believe global', 'believe man', 'believe pron', 'believe science', 'benefit', 'bernie', 'bernie sanders', 'bet', 'better', 'betweaaa', 'big', 'big oil', 'big problem', 'big threat', 'billion', 'billion dollar', 'billion solar', 'biodiversity', 'bird', 'bitch', 'black', 'blame', 'blame climate', 'blame global', 'bleach', 'bleach anemone', 'block', 'blog', 'bloomberg', 'blow', 'board', 'body', 'bold', 'book', 'boost', 'bottle', 'boy', 'brain', 'break', 'break climate', 'breaking', 'breitbart', 'brexit', 'bright', 'bring', 'bring pron', 'brown', 'bs', 'budget', 'build', 'bullshit', 'bunch', 'burn', 'business', 'buy', 'ca', 'caaa', 'cabinet', 'california', 'california climate', 'caller', 'caller pron', 'campaign', 'canada', 'cancel', 'candidate', 'car', 'carbon', 'carbon dioxide', 'carbon emission', 'care', 'care climate', 'care global', 'care pron', 'case', 'case pron', 'catastrophe', 'catastrophic', 'catastrophic climate', 'catch', 'cause', 'cause climate', 'cause global', 'cause human', 'cause pron', 'cdc', 'century', 'ceo', 'challenge', 'chance', 'change', 'change aaa', 'change action', 'change adaptation', 'change affect', 'change agenda', 'change agreement', 'change amp', 'change beforetheflood', 'change big', 'change book', 'change bring', 'change cause', 'change chinese', 'change city', 'change climate', 'change concern', 'change conference', 'change conflict', 'change datum', 'change deal', 'change debate', 'change deni', 'change denial', 'change denier', 'change deny', 'change despite', 'change doc', 'change documentary', 'change donald', 'change environment', 'change exist', 'change expert', 'change fact', 'change fake', 'change fight', 'change future', 'change global', 'change goal', 'change good', 'change great', 'change happen', 'change hoax', 'change hoaxaaa', 'change https', 'change human', 'change impact', 'change importance', 'change important', 'change issue', 'change just', 'change kill', 'change lead', 'change let', 'change like', 'change look', 'change make', 'change man', 'change mean', 'change million', 'change myth', 'change national', 'change new', 'change news', 'change pact', 'change page', 'change pay', 'change plan', 'change policy', 'change problem', 'change program', 'change pron', 'change push', 'change real', 'change report', 'change research', 'change risk', 'change say', 'change science', 'change scientist', 'change scott', 'change seriously', 'change skeptic', 'change solution', 'change stop', 'change study', 'change support', 'change talk', 'change thataaas', 'change thing', 'change threat', 'change threaten', 'change tonight', 'change trump', 'change watch', 'change world', 'changeaaa', 'channel', 'charge', 'charles', 'check', 'chicago', 'chief', 'chief say', 'chief scott', 'child', 'china', 'china criticize', 'china lecture', 'china tell', 'chinese', 'chinese hoax', 'chinese order', 'choice', 'choice global', 'choose', 'christmas', 'cite', 'citizen', 'city', 'civil', 'civil right', 'claim', 'claim climate', 'class', 'clean', 'clean air', 'clean energy', 'clear', 'climate', 'climate change', 'climate changeaaa', 'climate home', 'climate https', 'climate scientist', 'climatechange', 'climatechange https', 'climatemarch', 'clinton', 'clinton combat', 'close', 'club', 'club penguin', 'cnn', 'co2', 'co2 cause', 'co2 primary', 'coaaa', 'coal', 'coal https', 'coast', 'coastal', 'cold', 'college', 'column', 'combat', 'combat climate', 'combat global', 'come', 'come climate', 'come pron', 'comment', 'commit', 'commitment', 'committee', 'common', 'community', 'company', 'competitiaaa', 'competitive', 'complain', 'completely', 'complex', 'comprehensive', 'comprehensive immigration', 'concept', 'concept global', 'concern', 'concerned', 'conference', 'confirm', 'conflict', 'conflict limited', 'confront', 'congress', 'congressman', 'consensus', 'consequence', 'conservative', 'consider', 'conspiracy', 'continue', 'continue fight', 'contradict', 'contradict epa', 'contribute', 'contribute climate', 'contribute global', 'contribution', 'contributor', 'contributor climate', 'contributor global', 'control', 'conversation', 'convince', 'cook', 'cool', 'cooling', 'cooperation', 'cooperation betweaaa', 'cop22', 'cop22 https', 'cope', 'coral', 'coral reef', 'corporate', 'cost', 'council', 'country', 'country pron', 'country world', 'course', 'court', 'cover', 'crack', 'crack ice', 'crazy', 'create', 'create chinese', 'create new', 'crime', 'crime https', 'crisis', 'critical', 'criticize', 'criticize trump', 'crop', 'curb', 'curb climate', 'current', 'cut', 'dad', 'daily', 'damage', 'damn', 'dana', 'danger', 'dangerous', 'dangerous climate', 'dark', 'datum', 'datum https', 'david', 'day', 'dead', 'deadly', 'deal', 'deal climate', 'deal https', 'dear', 'death', 'debate', 'debate climate', 'decade', 'decide', 'decision', 'deep', 'defend', 'defense', 'deforestation', 'defy', 'degree', 'delay', 'delete', 'deluge', 'deluge angry', 'demand', 'democrats', 'deni', 'denial', 'denial https', 'denier', 'denier https', 'denier pron', 'deny', 'deny carbon', 'deny climate', 'deny global', 'department', 'dept', 'deserve', 'design', 'despite', 'despite trump', 'destroy', 'develop', 'di', 'diabetes', 'dicaprio', 'die', 'die climate', 'die old', 'die pron', 'difference', 'dioxide', 'dioxide cause', 'dioxide primary', 'directly', 'director', 'disappear', 'disaster', 'disaster https', 'discuss', 'discuss climate', 'discussion', 'disease', 'dispute', 'doc', 'document', 'documentary', 'doesnaaat', 'doesnaaat believe', 'doesnaaat think', 'dollar', 'donaaat', 'donald', 'donald trump', 'doom', 'double', 'doubt', 'dr', 'dramatically', 'drive', 'drive climate', 'driver', 'drop', 'drought', 'dude', 'dumb', 'dup', 'dupe', 'dupe manipulate', 'ea', 'early', 'earth', 'earth pron', 'earthday', 'easy', 'eat', 'economic', 'economy', 'economy https', 'ecosystem', 'ed', 'editorial', 'education', 'effect', 'effect climate', 'effect global', 'effective', 'effort', 'effort https', 'elect', 'elect believe', 'elect doesnaaat', 'elect trump', 'election', 'eliminate', 'email', 'emission', 'employee', 'end', 'end global', 'end pron', 'energy', 'energy climate', 'energy department', 'enjoy', 'enter', 'entire', 'environment', 'environment https', 'environmental', 'environmentalist', 'epa', 'epa administrator', 'epa chief', 'epa climate', 'epa head', 'epa https', 'epa remove', 'epa website', 'episode', 'equality', 'equality pron', 'equity', 'equity woman', 'era', 'especially', 'eu', 'europe', 'event', 'evidence', 'evidence climate', 'evolution', 'exactly', 'example', 'excellent', 'executive', 'executive order', 'exist', 'exist https', 'exist pron', 'exit', 'exit climate', 'expect', 'expect pron', 'experience', 'expert', 'expert say', 'explain', 'explain pron', 'explore', 'extinction', 'extreme', 'extreme weather', 'extremely', 'exxon', 'exxon mobil', 'exxonmobil', 'eye', 'face', 'face climate', 'fact', 'fact climate', 'fact pron', 'factor', 'fail', 'failure', 'fake', 'fake news', 'fall', 'false', 'falsely', 'family', 'famine', 'far', 'farmer', 'fascist', 'fast', 'fear', 'february', 'fed', 'federal', 'feel', 'fight', 'fight climate', 'fight global', 'film', 'finally', 'fish', 'fix', 'flat', 'flood', 'flooding', 'florida', 'fly', 'focus', 'follow', 'food', 'fool', 'force', 'forest', 'forget', 'forward', 'fossiaaa', 'fossil', 'fossil fuel', 'fox', 'fox news', 'france', 'francis', 'fraud', 'free', 'freeze', 'friend', 'friend die', 'frightening', 'frightening country', 'fuck', 'fucking', 'fuel', 'fund', 'funding', 'funny', 'future', 'future https', 'future planet', 'g20', 'g7', 'game', 'gas', 'gates', 'gay', 'gender', 'general', 'generation', 'giant', 'girl', 'glacier', 'glad', 'global', 'global climate', 'global level', 'global warming', 'globalwarme', 'globalwarming', 'goal', 'god', 'god pron', 'good', 'good news', 'good thing', 'google', 'gop', 'gore', 'gov', 'gov jerry', 'government', 'government climate', 'governor', 'govt', 'great', 'great barrier', 'great caaa', 'green', 'greenhouse', 'ground', 'group', 'grow', 'growth', 'gt', 'guardian', 'guardian https', 'guess', 'guess pron', 'gun', 'guy', 'habitat', 'hack', 'half', 'half billion', 'hand', 'happen', 'happen https', 'happen pron', 'happy', 'hard', 'harm', 'harvey', 'hate', 'head', 'head epa', 'head scott', 'health', 'health care', 'healthcare', 'hear', 'heat', 'hell', 'hell global', 'hello', 'hello pron', 'help', 'help fight', 'help pron', 'hey', 'hide', 'high', 'highlight', 'hillary', 'hillary clinton', 'hire', 'history', 'hit', 'hoax', 'hoax https', 'hoax pron', 'hoaxaaa', 'hold', 'home', 'home climate', 'honestly', 'hope', 'hope pron', 'hot', 'hot pron', 'hot year', 'hour', 'house', 'house climate', 'house website', 'hrc', 'hrc propose', 'ht', 'htaaa', 'htt', 'httaaa', 'http', 'httpaaa', 'https', 'https aaa', 'https caaa', 'https hypyswhvvv', 'https lkdehj3tnn', 'https sjofonaaa', 'https taaa', 'httpsaaa', 'huge', 'human', 'human activity', 'human cause', 'humanity', 'hurricane', 'hurricane harvey', 'hurt', 'husband', 'husband believe', 'hypocrite', 'hypyswhvvv', 'iaaa', 'iaaam', 'ice', 'ice age', 'ice climate', 'ice melt', 'iceberg', 'idea', 'idea climate', 'idiot', 'ignorance', 'ignorant', 'ignore', 'ignore climate', 'ignore pron', 'image', 'imagine', 'immigration', 'immigration reform', 'impact', 'impact climate', 'importance', 'importance cooperation', 'important', 'improve', 'imvotingbecause', 'imvotingbecause future', 'inaction', 'inaction climate', 'include', 'inconvenient', 'increase', 'independent', 'india', 'indian', 'indigenous', 'individual', 'industry', 'inequality', 'influence', 'info', 'information', 'initiative', 'innovation', 'inspiration', 'inspiration pron', 'inspire', 'instal', 'instal half', 'instead', 'interested', 'interesting', 'interior', 'international', 'internet', 'interview', 'interviewer', 'interviewer pron', 'invent', 'invent https', 'invest', 'investment', 'investor', 'involve', 'irony', 'isis', 'island', 'issue', 'issue aaa', 'issue climate', 'issue https', 'issue pron', 'ivanka', 'ivotedbecause', 'ivotedbecause pron', 'james', 'jerry', 'jerry brown', 'jet', 'job', 'john', 'john kerry', 'join', 'join combat', 'join pron', 'joke', 'journalist', 'judge', 'just', 'just elect', 'just join', 'just like', 'just pron', 'justice', 'kerry', 'key', 'kid', 'kid climate', 'kill', 'kill pron', 'kind', 'kind pron', 'know', 'know climate', 'know global', 'know pron', 'knowledge', 'lack', 'land', 'large', 'late', 'launch', 'law', 'lawmaker', 'lawsuit', 'lead', 'lead cause', 'lead climate', 'lead epa', 'leader', 'leader climate', 'leader doesnaaat', 'leader dupe', 'leadership', 'learn', 'leave', 'lecture', 'lecture united', 'left', 'leo', 'leonardo', 'leonardo dicaprio', 'let', 'let pron', 'letter', 'level', 'level https', 'level rise', 'lgbt', 'lgbt right', 'liberal', 'lie', 'life', 'light', 'like', 'like aaa', 'like climate', 'like global', 'like pron', 'likely', 'limit', 'limit global', 'limited', 'limited resource', 'line', 'link', 'link climate', 'link global', 'list', 'listen', 'listen scientist', 'literally', 'little', 'live', 'lkdehj3tnn', 'lkdehj3tnn httaaa', 'lmao', 'local', 'lol', 'long', 'long term', 'longer', 'look', 'look bright', 'look like', 'look pron', 'lose', 'loss', 'lot', 'love', 'low', 'macron', 'mad', 'maga', 'mail', 'main', 'main cause', 'major', 'major issue', 'majority', 'make', 'make climate', 'make global', 'make manufacture', 'make manufacturing', 'make pron', 'malcolm', 'man', 'man believe', 'man make', 'manipulate', 'manipulate global', 'manmade', 'manufacture', 'manufacture non', 'manufacturing', 'manufacturing non', 'map', 'march', 'mark', 'market', 'marriage', 'mass', 'massive', 'matter', 'maybe', 'maybe climate', 'maybe pron', 'mayor', 'mean', 'mean pron', 'measure', 'meat', 'medium', 'meet', 'meeting', 'melania', 'melania trump', 'melt', 'melt trigger', 'mental', 'mention', 'mention climate', 'message', 'methane', 'michael', 'michael bloomberg', 'mid', 'middle', 'military', 'million', 'million people', 'mind', 'minimum', 'minimum wage', 'minister', 'minute', 'mislead', 'miss', 'mitigate', 'mitigate climate', 'mitigation', 'mobil', 'model', 'money', 'money https', 'month', 'moon', 'morning', 'moron', 'movement', 'movie', 'mp', 'mr', 'mr taaa', 'myth', 'nasa', 'nation', 'national', 'national park', 'national security', 'natural', 'natural resources', 'nature', 'nearly', 'need', 'need comprehensive', 'need pron', 'network', 'new', 'new climate', 'new epa', 'new new', 'new study', 'new world', 'new york', 'news', 'news climate', 'news https', 'nice', 'night', 'noaa', 'nominee', 'non', 'non competitiaaa', 'non competitive', 'normal', 'north', 'note', 'november', 'november pron', 'nuclear', 'nuclear war', 'nuclear winter', 'number', 'ny', 'nyc', 'nye', 'nyt', 'oaaa', 'obama', 'obama climate', 'ocean', 'offer', 'office', 'office deluge', 'official', 'oh', 'oil', 'oil company', 'ok', 'okay', 'old', 'old age', 'online', 'open', 'opinion', 'opportunity', 'oppose', 'order', 'order make', 'org', 'outside', 'p2', 'pacific', 'pact', 'pact https', 'page', 'pakistan', 'panel', 'panel end', 'paper', 'parent', 'paris', 'paris accord', 'paris agreement', 'paris climate', 'parisagreement', 'park', 'party', 'pass', 'past', 'pay', 'pay equity', 'peace', 'penguin', 'penguin crime', 'penguin penguin', 'penguin shut', 'people', 'people believe', 'people climate', 'people pron', 'people say', 'people think', 'perry', 'person', 'petition', 'photo', 'phrase', 'phrase climate', 'physics', 'pick', 'picture', 'piece', 'pipeline', 'place', 'plan', 'plan exit', 'plan https', 'planet', 'planet stake', 'plant', 'plastic', 'play', 'pledge', 'plus', 'pm', 'point', 'polar', 'polar bear', 'policy', 'policy climate', 'policy https', 'politic', 'political', 'politician', 'poll', 'pollution', 'poor', 'pope', 'pope francis', 'popular', 'population', 'pose', 'position', 'position climate', 'possible', 'post', 'post https', 'post pron', 'potential', 'poverty', 'power', 'powerful', 'ppl', 'predict', 'prediction', 'prepare', 'preserve', 'presidency', 'president', 'president believe', 'president elect', 'president think', 'president trump', 'presidential', 'pressure', 'pretend', 'pretty', 'prevent', 'prevent climate', 'price', 'primary', 'primary cause', 'primary contributor', 'prince', 'prince charles', 'priority', 'private', 'pro', 'pro choice', 'probably', 'problem', 'problem climate', 'profit', 'program', 'progress', 'project', 'promise', 'pron', 'pron act', 'pron actually', 'pron address', 'pron agree', 'pron amp', 'pron ask', 'pron bad', 'pron believe', 'pron big', 'pron blame', 'pron build', 'pron care', 'pron cause', 'pron change', 'pron child', 'pron city', 'pron climate', 'pron cold', 'pron come', 'pron consider', 'pron continue', 'pron country', 'pron create', 'pron deny', 'pron destroy', 'pron die', 'pron elect', 'pron end', 'pron enjoy', 'pron expect', 'pron face', 'pron feel', 'pron fight', 'pron freeze', 'pron friend', 'pron fuck', 'pron future', 'pron global', 'pron good', 'pron great', 'pron guess', 'pron guy', 'pron happen', 'pron hear', 'pron help', 'pron hoax', 'pron hope', 'pron hot', 'pron https', 'pron husband', 'pron inspiration', 'pron invent', 'pron join', 'pron just', 'pron kid', 'pron kind', 'pron know', 'pron late', 'pron like', 'pron listen', 'pron literally', 'pron live', 'pron look', 'pron lose', 'pron love', 'pron majority', 'pron make', 'pron mean', 'pron mind', 'pron money', 'pron need', 'pron new', 'pron people', 'pron planet', 'pron policy', 'pron president', 'pron pro', 'pron pron', 'pron question', 'pron read', 'pron real', 'pron really', 'pron right', 'pron say', 'pron snow', 'pron spend', 'pron stand', 'pron start', 'pron stop', 'pron strong', 'pron support', 'pron sure', 'pron talk', 'pron tell', 'pron term', 'pron think', 'pron time', 'pron trump', 'pron try', 'pron tweet', 'pron understand', 'pron use', 'pron view', 'pron vote', 'pron want', 'pron way', 'pron website', 'pron wonder', 'pron work', 'pron world', 'pron worry', 'pron wrong', 'proof', 'propose', 'propose instal', 'protect', 'protect pron', 'protection', 'protest', 'protester', 'prove', 'prove climate', 'pruitt', 'pruitt climate', 'pruitt deny', 'pruitt office', 'pruitt say', 'public', 'publish', 'pull', 'push', 'push world', 'putin', 'qanda', 'question', 'question climate', 'question science', 'quick', 'race', 'racism', 'racist', 'radical', 'rain', 'raise', 'raise minimum', 'rapid', 'rare', 'rare china', 'rate', 'reach', 'react', 'read', 'read https', 'read pron', 'ready', 'real', 'real aaa', 'real https', 'real pron', 'reality', 'reality climate', 'realize', 'really', 'really know', 'reason', 'recent', 'recognize', 'record', 'record break', 'red', 'reduce', 'reef', 'reference', 'reform', 'reform pron', 'refugee', 'refuse', 'refute', 'regardless', 'regulation', 'reject', 'relate', 'release', 'religion', 'religious', 'remain', 'remember', 'reminder', 'remove', 'remove climate', 'renewable', 'renewable energy', 'report', 'report climate', 'report https', 'republican', 'republicans', 'request', 'require', 'research', 'research climate', 'research https', 'researcher', 'resilience', 'resist', 'resource', 'resource pron', 'resources', 'respect', 'respond', 'response', 'response climate', 'responsible', 'rest', 'rest world', 'result', 'return', 'retweet', 'reuters', 'reveal', 'reverse', 'reverse climate', 'review', 'rex', 'rex tillerson', 'rich', 'rick', 'rick perry', 'right', 'right climate', 'right https', 'right pron', 'right travel', 'rise', 'rise sea', 'risk', 'risk climate', 'risk https', 'river', 'role', 'role climate', 'roll', 'rule', 'run', 'russia', 'russian', 'sad', 'safe', 'sander', 'sanders', 'satellite', 'save', 'save pron', 'say', 'say carbon', 'say climate', 'say co2', 'say global', 'say https', 'say mr', 'say pron', 'say trump', 'scale', 'scam', 'scary', 'sceptic', 'school', 'science', 'science climate', 'science global', 'science https', 'science pron', 'scientific', 'scientist', 'scientist agree', 'scientist climate', 'scientist fossiaaa', 'scientist https', 'scientist pron', 'scientist say', 'scott', 'scott pruitt', 'sea', 'sea ice', 'sea level', 'season', 'sec', 'second', 'secretary', 'secretary state', 'security', 'seek', 'sell', 'senate', 'senator', 'send', 'sense', 'sequel', 'series', 'seriously', 'set', 'settle', 'sexist', 'share', 'shift', 'shit', 'short', 'shut', 'sick', 'sign', 'sign climate', 'sign executive', 'signal', 'silly', 'simple', 'simply', 'single', 'sink', 'sit', 'site', 'sjofonaaa', 'skeptic', 'skepticism', 'slam', 'slow', 'slow climate', 'small', 'smh', 'snow', 'snow bleach', 'snowflake', 'social', 'society', 'soil', 'solar', 'solar panel', 'solution', 'solution climate', 'solution https', 'solve', 'solve climate', 'soon', 'sorry', 'sound', 'source', 'south', 'space', 'speak', 'speak climate', 'special', 'specie', 'speech', 'spend', 'spread', 'spring', 'staff', 'stake', 'stake hillary', 'stance', 'stance climate', 'stand', 'stand climate', 'star', 'start', 'state', 'statement', 'states', 'states climate', 'stave', 'stave climate', 'stay', 'step', 'stop', 'stop climate', 'stop global', 'stop pron', 'store', 'storm', 'story', 'strategy', 'strong', 'strong pron', 'struggle', 'student', 'study', 'study climate', 'study https', 'stuff', 'stupid', 'sue', 'suffer', 'suggest', 'summer', 'summit', 'sun', 'support', 'support climate', 'support pron', 'supporter', 'suppose', 'sure', 'surprise', 'survive', 'taaa', 'tackle', 'tackle climate', 'talk', 'talk climate', 'talk global', 'talk pron', 'tank', 'target', 'tax', 'taxis', 'taxpayer', 'teach', 'team', 'tear', 'tech', 'technology', 'tell', 'tell pron', 'tell trump', 'temp', 'temperature', 'term', 'term climate', 'term trump', 'territory', 'territory https', 'terrorism', 'terrorist', 'test', 'texas', 'th', 'thank', 'thank climate', 'thank pron', 'thataaas', 'thataaas frightening', 'theory', 'theresa', 'thing', 'thing climate', 'thing pron', 'think', 'think climate', 'think global', 'think https', 'think iaaa', 'think pron', 'think tank', 'thought', 'thousand', 'threat', 'threat climate', 'threat pron', 'threaten', 'threaten climate', 'tie', 'tillerson', 'tillerson use', 'time', 'time pron', 'times', 'toaaa', 'today', 'today https', 'today pron', 'tomorrow', 'tonight', 'topic', 'total', 'town', 'tracker', 'trade', 'transform', 'transition', 'transition team', 'travel', 'travel world', 'treat', 'treaty', 'tree', 'trial', 'trigger', 'trigger uncontrollable', 'trillion', 'true', 'trump', 'trump abandon', 'trump admin', 'trump administration', 'trump believe', 'trump budget', 'trump climate', 'trump epa', 'trump global', 'trump hello', 'trump https', 'trump ignore', 'trump pick', 'trump plan', 'trump presidency', 'trump pron', 'trump really', 'trump request', 'trump say', 'trump sign', 'trump team', 'trump think', 'trump want', 'trumpaaas', 'truth', 'truth climate', 'try', 'turn', 'turnbull', 'tv', 'tweet', 'tweet climate', 'tweet https', 'twitter', 'uk', 'uncharted', 'uncharted territory', 'uncontrollable', 'uncontrollable climate', 'understand', 'understand climate', 'underwater', 'undo', 'undo obama', 'unite', 'united', 'united states', 'university', 'unless', 'update', 'ur', 'urge', 'urgent', 'usa', 'use', 'use alias', 'use phrase', 'value', 'vegan', 'verge', 'victim', 'victory', 'video', 'video https', 'view', 'view climate', 'virtually', 'virtually major', 'visit', 'voice', 'vote', 'voter', 'voting', 'vow', 'vs', 'vulnerable', 'wage', 'wage climate', 'wait', 'wake', 'walk', 'wall', 'wanna', 'want', 'want climate', 'want pron', 'war', 'war climate', 'warm', 'warm weather', 'warming', 'warming amp', 'warming bad', 'warming cause', 'warming chinese', 'warming climate', 'warming create', 'warming datum', 'warming exist', 'warming hoax', 'warming https', 'warming just', 'warming kill', 'warming make', 'warming melania', 'warming myth', 'warming penguin', 'warming pron', 'warming real', 'warming silly', 'warming thing', 'warming way', 'warn', 'warn climate', 'warn trump', 'warning', 'wash', 'washington', 'washington post', 'waste', 'waste pron', 'watch', 'watch beforetheflood', 'water', 'wave', 'way', 'way pron', 'wayne', 'wayne tracker', 'weapon', 'wear', 'weather', 'weather channel', 'weather climate', 'weather event', 'weather pron', 'web', 'website', 'website https', 'week', 'welcome', 'west', 'wh', 'white', 'white house', 'wildlife', 'win', 'wing', 'winter', 'wisconsin', 'wish', 'withdraw', 'woman', 'woman aaa', 'woman right', 'wonder', 'word', 'work', 'work climate', 'work pron', 'worker', 'world', 'world china', 'world climate', 'world https', 'world leader', 'world tackle', 'world uncharted', 'worldwide', 'worried', 'worry', 'worry climate', 'worry global', 'worsen', 'worth', 'wow', 'write', 'wrong', 'ya', 'yeah', 'year', 'year ago', 'year climate', 'year global', 'year https', 'year old', 'year pron', 'yes', 'yes pron', 'yesterday', 'york', 'young', 'youth', 'yr', 'zero']\n"
          ],
          "name": "stdout"
        }
      ]
    },
    {
      "cell_type": "code",
      "metadata": {
        "id": "rUyNcxcBQS6_"
      },
      "source": [
        "X_train, X_val, y_train, y_val = train_test_split(X_vect_smote, y_smote)\n",
        "\n",
        "classifiers = [\n",
        "    LogisticRegression(),\n",
        "    KNeighborsClassifier(),\n",
        "    SVC(),\n",
        "    DecisionTreeClassifier(),\n",
        "    RandomForestClassifier(),\n",
        "    AdaBoostClassifier(),\n",
        "    MLPClassifier(),\n",
        "    LinearSVC()\n",
        "]"
      ],
      "execution_count": 18,
      "outputs": []
    },
    {
      "cell_type": "code",
      "metadata": {
        "id": "lZdMYDgLQb6h",
        "outputId": "58161a94-78cb-44c6-b3c8-b378034b0f3a",
        "colab": {
          "base_uri": "https://localhost:8080/",
          "height": 173
        }
      },
      "source": [
        "results = []\n",
        "\n",
        "models = {}\n",
        "confusion = {}\n",
        "class_report = {}\n",
        "\n",
        "names = ['Logistic Regression', 'Nearest Neighbors',\n",
        "         'SVM','Decision Tree', 'Random Forest','AdaBoost Classifier','MLPClassifier','LinearSVC']\n",
        "for clf, name in zip(classifiers, names):\n",
        "    model = clf\n",
        "    model.fit(X_train,y_train)\n",
        "    y_pred = model.predict(X_val)\n",
        "    \n",
        "    f1 = metrics.f1_score(y_val, y_pred, average='macro')\n",
        "    results.append([name, f1])\n",
        "results = pd.DataFrame(results, columns=['Classifier', 'F1 Score']) "
      ],
      "execution_count": 19,
      "outputs": [
        {
          "output_type": "stream",
          "text": [
            "/usr/local/lib/python3.6/dist-packages/sklearn/linear_model/_logistic.py:940: ConvergenceWarning: lbfgs failed to converge (status=1):\n",
            "STOP: TOTAL NO. of ITERATIONS REACHED LIMIT.\n",
            "\n",
            "Increase the number of iterations (max_iter) or scale the data as shown in:\n",
            "    https://scikit-learn.org/stable/modules/preprocessing.html\n",
            "Please also refer to the documentation for alternative solver options:\n",
            "    https://scikit-learn.org/stable/modules/linear_model.html#logistic-regression\n",
            "  extra_warning_msg=_LOGISTIC_SOLVER_CONVERGENCE_MSG)\n"
          ],
          "name": "stderr"
        }
      ]
    },
    {
      "cell_type": "code",
      "metadata": {
        "id": "Co3lFYrqQkTf",
        "outputId": "398c877c-614c-425d-b9e1-21661a5d31ed",
        "colab": {
          "base_uri": "https://localhost:8080/",
          "height": 297
        }
      },
      "source": [
        "results.sort_values('F1 Score', ascending=False)"
      ],
      "execution_count": 20,
      "outputs": [
        {
          "output_type": "execute_result",
          "data": {
            "text/html": [
              "<div>\n",
              "<style scoped>\n",
              "    .dataframe tbody tr th:only-of-type {\n",
              "        vertical-align: middle;\n",
              "    }\n",
              "\n",
              "    .dataframe tbody tr th {\n",
              "        vertical-align: top;\n",
              "    }\n",
              "\n",
              "    .dataframe thead th {\n",
              "        text-align: right;\n",
              "    }\n",
              "</style>\n",
              "<table border=\"1\" class=\"dataframe\">\n",
              "  <thead>\n",
              "    <tr style=\"text-align: right;\">\n",
              "      <th></th>\n",
              "      <th>Classifier</th>\n",
              "      <th>F1 Score</th>\n",
              "    </tr>\n",
              "  </thead>\n",
              "  <tbody>\n",
              "    <tr>\n",
              "      <th>6</th>\n",
              "      <td>MLPClassifier</td>\n",
              "      <td>0.897768</td>\n",
              "    </tr>\n",
              "    <tr>\n",
              "      <th>2</th>\n",
              "      <td>SVM</td>\n",
              "      <td>0.897480</td>\n",
              "    </tr>\n",
              "    <tr>\n",
              "      <th>4</th>\n",
              "      <td>Random Forest</td>\n",
              "      <td>0.851225</td>\n",
              "    </tr>\n",
              "    <tr>\n",
              "      <th>7</th>\n",
              "      <td>LinearSVC</td>\n",
              "      <td>0.789416</td>\n",
              "    </tr>\n",
              "    <tr>\n",
              "      <th>0</th>\n",
              "      <td>Logistic Regression</td>\n",
              "      <td>0.777164</td>\n",
              "    </tr>\n",
              "    <tr>\n",
              "      <th>3</th>\n",
              "      <td>Decision Tree</td>\n",
              "      <td>0.734463</td>\n",
              "    </tr>\n",
              "    <tr>\n",
              "      <th>1</th>\n",
              "      <td>Nearest Neighbors</td>\n",
              "      <td>0.718874</td>\n",
              "    </tr>\n",
              "    <tr>\n",
              "      <th>5</th>\n",
              "      <td>AdaBoost Classifier</td>\n",
              "      <td>0.619480</td>\n",
              "    </tr>\n",
              "  </tbody>\n",
              "</table>\n",
              "</div>"
            ],
            "text/plain": [
              "            Classifier  F1 Score\n",
              "6        MLPClassifier  0.897768\n",
              "2                  SVM  0.897480\n",
              "4        Random Forest  0.851225\n",
              "7            LinearSVC  0.789416\n",
              "0  Logistic Regression  0.777164\n",
              "3        Decision Tree  0.734463\n",
              "1    Nearest Neighbors  0.718874\n",
              "5  AdaBoost Classifier  0.619480"
            ]
          },
          "metadata": {
            "tags": []
          },
          "execution_count": 20
        }
      ]
    },
    {
      "cell_type": "code",
      "metadata": {
        "id": "Gu8QKFH9S5cG"
      },
      "source": [
        "mlp = MLPClassifier()\n",
        "mlp.fit(X_train, y_train)\n",
        "mlp_val_pred = mlp.predict(X_val)\n",
        "f1 = metrics.f1_score(y_val, mlp_val_pred, average='macro')\n",
        "f1"
      ],
      "execution_count": null,
      "outputs": []
    },
    {
      "cell_type": "code",
      "metadata": {
        "id": "B6w_PIuZS9WF"
      },
      "source": [
        "X_test = test_df['message']\n",
        "test_vectorized = tfidf.transform(X_test)"
      ],
      "execution_count": null,
      "outputs": []
    },
    {
      "cell_type": "code",
      "metadata": {
        "id": "ezVxtpOuTCKs"
      },
      "source": [
        "mlp_test_pred = mlp.predict(test_vectorized)"
      ],
      "execution_count": null,
      "outputs": []
    },
    {
      "cell_type": "code",
      "metadata": {
        "id": "ToF67ggcTF6L"
      },
      "source": [
        "test_df['sentiment'] = mlp_test_pred\n",
        "test_df[['tweetid','sentiment']].to_csv('MLP_prediction__no_n_gram.csv', index=0)"
      ],
      "execution_count": null,
      "outputs": []
    },
    {
      "cell_type": "code",
      "metadata": {
        "id": "YuFByJEQTIpP"
      },
      "source": [
        "from google.colab import files\n",
        "files.download(\"MLP_prediction__no_n_gram.csv\")"
      ],
      "execution_count": null,
      "outputs": []
    }
  ]
}